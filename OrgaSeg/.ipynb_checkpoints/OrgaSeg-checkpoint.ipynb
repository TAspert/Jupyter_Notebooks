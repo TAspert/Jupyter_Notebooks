{
 "cells": [
  {
   "cell_type": "markdown",
   "id": "f5746122-acbb-4d2a-84f8-470dd5333769",
   "metadata": {},
   "source": [
    "**This Jupyter Notebook segments objects in images present in folders and extract the diameter of the objects, before plotting them.**\n",
    "<p> The packages required are indicated in the README.md from the same folder than this program</p>\n",
    "\n",
    "<p>The code has been design to work on such folder architecture: \n",
    "    <br>Main_Folder\n",
    "            <br>&emsp;&emsp;Position_1\n",
    "            <br>&emsp;&emsp;Position_2\n",
    "            <br>&emsp;&emsp;...\n",
    "            <br>&emsp;&emsp;Position_N\n",
    "    \n",
    "And when it asks for an image folder, it means a Position_i folder, unless you ticked the box \"Process ALL images present in all the subfolders\" in which case the script will process all the images found in the Main_Folder and the in the Position_i folders in one round.\n",
    "<br>\n",
    "Images to segment must be .jpg, .png or .tiff\n",
    "<br>\n",
    "After segmenting the images from the Position_i folder, the code computes the size of each mask and in particular the diameter, and export the value for each images, with the suffix *_data*.\n",
    "Then, it merges all the data from one image folder into one file with the suffix *data_pos* <br>\n",
    "Once you are done computing all the image folders, it merges all the data from one image folder into one file with the suffix *data_pos*\n",
    "</p>"
   ]
  },
  {
   "cell_type": "markdown",
   "id": "0c9e7d41-4f72-4c16-b5a6-d4122a2bde6e",
   "metadata": {
    "tags": []
   },
   "source": [
    "<h4>The next section loads the required libraries for the code to work:</h4>"
   ]
  },
  {
   "cell_type": "code",
   "execution_count": 6,
   "id": "472ff74f-6339-4b18-958a-1e4dda31d505",
   "metadata": {
    "tags": []
   },
   "outputs": [],
   "source": [
    "# Import required libraries\n",
    "import glob\n",
    "import os\n",
    "from pathlib import Path\n",
    "import tkinter\n",
    "import math\n",
    "\n",
    "from dataclasses import dataclass\n",
    "\n",
    "from tqdm.notebook import trange, tqdm\n",
    "\n",
    "import matplotlib.pyplot as plt\n",
    "import seaborn as sns\n",
    "#import ptitprince as pt # if not installed, run: \"conda install -c conda-forge ptitprince\"\n",
    "\n",
    "import numpy as np\n",
    "from tkinter.filedialog import askdirectory, askopenfilename\n",
    "import pandas as pd\n",
    "from skimage import io, measure\n",
    "from cellpose import models, utils, io as iocp\n",
    "\n",
    "import ipywidgets as widgets"
   ]
  },
  {
   "cell_type": "markdown",
   "id": "e59cf507-f4b0-4a5e-92f1-d6587315930e",
   "metadata": {
    "tags": []
   },
   "source": [
    "<h3>Then, create a user interface to find the path to a Cellpose model, to determine the pixel size of the image, and to determine the approximate size of the objects to segment. It also asks if you want to use a GPU for the computation.</h3>\n",
    "\n",
    "<h4> Note on the use of a GPU (Ignore if you don't have a GPU)</h4>\n",
    "If you plan on running many images, you may want to install a GPU version of *torch* (if it isn't already installed).\n",
    "<br>Before installing the GPU version, remove the CPU version:\n",
    "<br><code>pip uninstall torch</code>\n",
    "\n",
    "Follow the instructions <a href=\"https://pytorch.org/get-started/locally/\">here</a> to determine what version to install. The Anaconda install is strongly recommended, and then choose the CUDA version that is supported by your GPU (newer GPUs may need newer CUDA versions > 10.2). For instance this command will install the 11.3 version on Linux and Windows (note the <code>torchvision</code> and <code>torchaudio</code> commands are removed because cellpose doesn't require them):\n",
    "<br><code>conda install pytorch cudatoolkit=11.3 -c pytorch</code>"
   ]
  },
  {
   "cell_type": "code",
   "execution_count": 30,
   "id": "92766d2a-da88-47cf-abbb-4fce45b936ac",
   "metadata": {},
   "outputs": [
    {
     "data": {
      "application/vnd.jupyter.widget-view+json": {
       "model_id": "cb27461a9820402ead2e9000aa30c824",
       "version_major": 2,
       "version_minor": 0
      },
      "text/plain": [
       "HBox(children=(Button(description='Find path to the model', layout=Layout(height='auto', width='auto'), style=…"
      ]
     },
     "metadata": {},
     "output_type": "display_data"
    },
    {
     "data": {
      "application/vnd.jupyter.widget-view+json": {
       "model_id": "775d725095f749bfbc7e1a191379ee93",
       "version_major": 2,
       "version_minor": 0
      },
      "text/plain": [
       "HBox(children=(Label(value='Pixel size (in µm)'), FloatText(value=0.7211538461538461, layout=Layout(height='au…"
      ]
     },
     "metadata": {},
     "output_type": "display_data"
    },
    {
     "data": {
      "application/vnd.jupyter.widget-view+json": {
       "model_id": "603f23a84eef4c65b8dc52fc6421b412",
       "version_major": 2,
       "version_minor": 0
      },
      "text/plain": [
       "HBox(children=(Label(value=\"Approx mean diameter of the EB (in pixels). If you don't know, put 0. If no mask i…"
      ]
     },
     "metadata": {},
     "output_type": "display_data"
    },
    {
     "data": {
      "application/vnd.jupyter.widget-view+json": {
       "model_id": "28c20b2ae74c4c0e96b6925c9ccb836b",
       "version_major": 2,
       "version_minor": 0
      },
      "text/plain": [
       "Checkbox(value=False, description='Use GPU? Check the requirments at https://github.com/MouseLand/cellpose if …"
      ]
     },
     "metadata": {},
     "output_type": "display_data"
    }
   ],
   "source": [
    "# Create a button widget\n",
    "buttonPathModel = widgets.Button(description=\"Find path to the model\",\n",
    "                        layout={'height': 'auto', 'width': 'auto'})\n",
    "# Create a text output widget\n",
    "outputPathModel = widgets.Text(layout={'height': 'auto', 'width': '75%'})\n",
    "\n",
    "# Define a function to be called when the button is clicked\n",
    "def find_path(b):\n",
    "    # Use the filedialog module to open a file or directory selection dialog\n",
    "    root = tkinter.Tk()\n",
    "    root.withdraw()\n",
    "    root.wm_attributes('-topmost', 1)\n",
    "    model_path= askopenfilename(title=\"Path to the model of segmentation\",parent=root)\n",
    "    outputPathModel.value=model_path\n",
    "\n",
    "# Attach the button-click function to the button widget\n",
    "buttonPathModel.on_click(find_path)\n",
    "\n",
    "# Display the button widget in the output area\n",
    "display(widgets.HBox(children=[buttonPathModel, outputPathModel]))\n",
    "\n",
    "#%%\n",
    "# Create a text input widget\n",
    "pixsize = widgets.FloatText(value=150/208,\n",
    "                               layout={'height': 'auto', 'width': 'auto'})\n",
    "\n",
    "# Define a function to be called when the text input is changed\n",
    "#def update_pixsize(change):\n",
    "    ## Update the value of the variable to the current value of the text input\n",
    "#    pixsize.value = change.new\n",
    "## Attach the text input change function to the text input widget\n",
    "#pixsize.observe(update_pixsize, names=\"value\")\n",
    "\n",
    "# Display the text input widget in the output area\n",
    "labelpix = widgets.Label(value=\"Pixel size (in µm)\")\n",
    "containerpix = widgets.HBox(children=[labelpix, pixsize])\n",
    "display(containerpix)\n",
    "\n",
    "\n",
    "# Create a text input widget\n",
    "diam = widgets.FloatText(value=150,\n",
    "                         layout={'height': 'auto', 'width': 'auto'})\n",
    "\n",
    "# Define a function to be called when the text input is changed\n",
    "#def update_diam(change):\n",
    "  #  # Update the value of the variable to the current value of the text input\n",
    "  #  diam.value = change.new\n",
    "\n",
    "## Attach the text input change function to the text input widget\n",
    "#diam.observe(update_diam, names=\"value\")\n",
    "\n",
    "# Display the text input widget in the output area\n",
    "\n",
    "labeldiam = widgets.Label(value=\"Approx mean diameter of the EB (in pixels). If you don't know, put 0. If no mask is found on some images, try to optimize this diameter input, or put 0.\")\n",
    "containerdiam = widgets.HBox(children=[labeldiam, diam])\n",
    "display(containerdiam)\n",
    "\n",
    "\n",
    "gpuval=widgets.Checkbox(\n",
    "    value=False,\n",
    "    description='Use GPU? Check the requirments at https://github.com/MouseLand/cellpose if you think you can.',\n",
    "    disabled=False,\n",
    "    indent=False,\n",
    "    layout={'height': 'auto', 'width': 'auto'}\n",
    ")\n",
    "display(gpuval)\n"
   ]
  },
  {
   "cell_type": "markdown",
   "id": "3ecced55-8f22-485b-9c96-dedaeb4f683d",
   "metadata": {},
   "source": [
    "<h4>Then, create a GUI to select the image folders:</h4>"
   ]
  },
  {
   "cell_type": "code",
   "execution_count": 70,
   "id": "2555e4bb-cbe9-412d-8008-ebfe6bc332aa",
   "metadata": {},
   "outputs": [
    {
     "data": {
      "application/vnd.jupyter.widget-view+json": {
       "model_id": "6b3a1e28c9af45779f4af1af594dc351",
       "version_major": 2,
       "version_minor": 0
      },
      "text/plain": [
       "Checkbox(value=False, description='Compute all subfolders in one round? In this case, the indicated folder mus…"
      ]
     },
     "metadata": {},
     "output_type": "display_data"
    },
    {
     "data": {
      "application/vnd.jupyter.widget-view+json": {
       "model_id": "e7df587c355745c5acbe3d6e4344dc7c",
       "version_major": 2,
       "version_minor": 0
      },
      "text/plain": [
       "HBox(children=(Button(description='Find path to the images', layout=Layout(height='auto', width='auto'), style…"
      ]
     },
     "metadata": {},
     "output_type": "display_data"
    }
   ],
   "source": [
    "twolevels=widgets.Checkbox(\n",
    "    value=False,\n",
    "    description='Compute all subfolders in one round? In this case, the indicated folder must be the Main folder',\n",
    "    disabled=False,\n",
    "    indent=False,\n",
    "    layout={'height': 'auto', 'width': 'auto'}\n",
    ")\n",
    "display(twolevels)\n",
    "\n",
    "\n",
    "# Create a button widget\n",
    "buttonfind_path = widgets.Button(description=\"Find path to the images\", \n",
    "                        layout={'height': 'auto', 'width': 'auto'})\n",
    "# Create a text output widget\n",
    "folder_path = widgets.Text(layout={'height': 'auto', 'width': '75%'})\n",
    "# Define a function to be called when the button is clicked\n",
    "def find_path(b):\n",
    "    # Use the filedialog module to open a file or directory selection dialog\n",
    "    root = tkinter.Tk()\n",
    "    root.withdraw()\n",
    "    root.wm_attributes('-topmost', 1)\n",
    "    folder_path.value = askdirectory(title=\"Path to the folder containing images to be segmented\",parent=root)\n",
    "    # timeu.value= os.path.basename(os.path.normpath(folder_path.value))\n",
    "    \n",
    "# Attach the button-click function to the button widget\n",
    "buttonfind_path.on_click(find_path)\n",
    "\n",
    "\n",
    "# Display the button widget in the output area\n",
    "display(widgets.HBox(children=[buttonfind_path, folder_path]))\n",
    "\n",
    "\n",
    "\n",
    "# Create a text input widget\n",
    "timeu = widgets.Text(value=\"1\",\n",
    "                                   layout={'height': 'auto', 'width': 'auto'})\n",
    "# Define a function to be called when the text input is changed\n",
    "#def update_time(change):\n",
    "  #  # Update the value of the variable to the current value of the text input\n",
    "#    timeu.value=change.new\n",
    "\n",
    "   # # Attach the text input change function to the text input widget\n",
    "#timeu.observe(update_time, names=\"value\")\n",
    "\n",
    "# Display the text input widget in the output area\n",
    "# labeltime = widgets.Label(value=\"Label of the folder (for example, the number of the timepoint), text also works\")\n",
    "# containertime = widgets.HBox(children=[labeltime, timeu])\n",
    "# display(containertime)\n"
   ]
  },
  {
   "cell_type": "markdown",
   "id": "33238b38-49d5-45ac-a62d-0bcd68e3bb0e",
   "metadata": {},
   "source": [
    "<h4>The following section executes the segmentation on the images from the input folder and saves the diameter for each image.</h4>"
   ]
  },
  {
   "cell_type": "code",
   "execution_count": 72,
   "id": "5456ba04-571b-4398-973a-9879735feaec",
   "metadata": {},
   "outputs": [
    {
     "data": {
      "application/vnd.jupyter.widget-view+json": {
       "model_id": "db2106264d15433884d835d0e5b11053",
       "version_major": 2,
       "version_minor": 0
      },
      "text/plain": [
       "Subfolders:   0%|          | 0/3 [00:00<?, ?folders/s]"
      ]
     },
     "metadata": {},
     "output_type": "display_data"
    },
    {
     "data": {
      "application/vnd.jupyter.widget-view+json": {
       "model_id": "cc12c1b9cfa84df5a991389ae31dc1b0",
       "version_major": 2,
       "version_minor": 0
      },
      "text/plain": [
       "Images:   0%|          | 0/1 [00:00<?, ?img/s]"
      ]
     },
     "metadata": {},
     "output_type": "display_data"
    },
    {
     "data": {
      "application/vnd.jupyter.widget-view+json": {
       "model_id": "73733fd7c0a74cbca39986eba4e6cf7a",
       "version_major": 2,
       "version_minor": 0
      },
      "text/plain": [
       "Images:   0%|          | 0/1 [00:00<?, ?img/s]"
      ]
     },
     "metadata": {},
     "output_type": "display_data"
    },
    {
     "data": {
      "application/vnd.jupyter.widget-view+json": {
       "model_id": "d900206675e3406888ddbf7cf9980626",
       "version_major": 2,
       "version_minor": 0
      },
      "text/plain": [
       "Images:   0%|          | 0/1 [00:00<?, ?img/s]"
      ]
     },
     "metadata": {},
     "output_type": "display_data"
    }
   ],
   "source": [
    "# Get the list of images in the folder\n",
    "#image_paths=iocp.get_image_files(folder_path.value, ['_masks'], imf=None, look_one_level_down=False)\n",
    "#image_paths=list(dict.fromkeys(image_paths)) #remove duplicates using a dictionary fct\n",
    "if twolevels.value is False:\n",
    "    subfolders=folder_path.value\n",
    "        \n",
    "else:\n",
    "    subfolders=glob.glob(folder_path.value + '/*/')\n",
    "    \n",
    "# Load the cellpose model\n",
    "model = models.CellposeModel(gpu=gpuval.value, pretrained_model=outputPathModel.value)\n",
    "\n",
    "channels=[0,0]\n",
    "# Segment the image using cellpose\n",
    "for subfolder in tqdm(subfolders, desc='Subfolders', unit='folders'):\n",
    "    image_paths=glob.glob(subfolder+'/*.tiff') + glob.glob(subfolder+'/*.png') + glob.glob(subfolder+'/*.jpg')\n",
    "    image_paths = [image_path for image_path in image_paths if ('_masks' not in image_path and '_output' not in image_path)]\n",
    "    \n",
    "    pos_name=os.path.basename(os.path.normpath(subfolder))\n",
    "    \n",
    "    for image_path in tqdm(image_paths, desc='Images', unit='img'):\n",
    "        img= io.imread(image_path)\n",
    "        #mask= io.imread(image_path)\n",
    "        if diam.value==0:\n",
    "            d=None\n",
    "        else:\n",
    "            d=diam.value\n",
    "\n",
    "        mask, flow, style = model.eval(img,channels=channels,diameter=d)\n",
    "        iocp.save_masks(img, \n",
    "                  mask, \n",
    "                  flow, \n",
    "                  image_path, \n",
    "                  channels=channels,\n",
    "                  png=True, # save masks as PNGs and save example image\n",
    "                  tif=False, # save masks as TIFFs\n",
    "                  save_txt=False, # save txt outlines for ImageJ\n",
    "                  save_flows=False, # save flows as TIFFs\n",
    "                  save_outlines=False, # save outlines as TIFFs. Useful to use with ImageJ\n",
    "                  )\n",
    "\n",
    "        mask2=utils.remove_edge_masks(mask)\n",
    "        outline=utils.masks_to_outlines(mask2)\n",
    "        #perimeters=utils.get_mask_perimeters(mask2)\n",
    "        regions = measure.regionprops(mask2)\n",
    "\n",
    "        diameters=[]\n",
    "        area=[]\n",
    "        circu=[]\n",
    "        source_image=[]\n",
    "        pixelsize=[]\n",
    "        time=[]\n",
    "        #perimeters2=np.empty((len(regions),1))\n",
    "        for k in range(len(regions)):\n",
    "            diameters+=[regions[k].equivalent_diameter_area*pixsize.value]\n",
    "            area+=[regions[k].area*pixsize.value*pixsize.value]\n",
    "            circu+=[math.pi*diameters[k]/regions[k].perimeter]\n",
    "            source_image+=[image_path]\n",
    "            pixelsize+=[pixsize.value]\n",
    "            # time+=[timeu.value]\n",
    "            time+= [pos_name]\n",
    "            #perimeters2[k]=regions[k].perimeter\n",
    "\n",
    "        data=pd.DataFrame({\n",
    "            'time': time,\n",
    "            'diameter': diameters,\n",
    "            'section_area': area,\n",
    "            'circularity': circu,\n",
    "            'source_image': source_image,\n",
    "            'pixel_size': pixelsize\n",
    "            })\n",
    "\n",
    "        data.to_excel((os.path.splitext(image_path)[0] + '_data.xlsx'))\n",
    "        data.to_pickle((os.path.splitext(image_path)[0] + '_data.pkl'))\n",
    "\n",
    "    #% Merge all the data from the position\n",
    "    data_paths =glob.glob(subfolder + \"/*data.pkl\")\n",
    "\n",
    "    data_pos=pd.DataFrame({\n",
    "        'time': [],\n",
    "        'diameter': [],\n",
    "        'section_area': [],\n",
    "        'circularity': [],\n",
    "        'source_image': [],\n",
    "        'pixel_size': []\n",
    "        })\n",
    "    # diameters_pos=pd.DataFrame([])\n",
    "    for data_path in data_paths:\n",
    "        data = pd.read_pickle(data_path)\n",
    "        # diameters=np.load(data_path)\n",
    "\n",
    "        pos_name=os.path.basename(os.path.normpath(subfolder))\n",
    "\n",
    "        data_pos=pd.concat([data_pos,data],ignore_index=True)\n",
    "        # diameters_pos=np.append(diameters_all,diameters)\n",
    "\n",
    "    main_folder=str(Path(subfolder).parent.absolute())\n",
    "    data_pos.to_excel(os.path.join(main_folder, pos_name+'_data_pos.xlsx'))\n",
    "    data_pos.to_pickle(os.path.join(main_folder, pos_name+'_data_pos.pkl'))"
   ]
  },
  {
   "cell_type": "markdown",
   "id": "db91018f-578a-4596-9d78-ef8736dd7595",
   "metadata": {
    "tags": []
   },
   "source": [
    "<h3>Only once all the folders of choice have been segmented, run the next section to merge the data from all the folders into a file ending by \"data_all\"</h3>"
   ]
  },
  {
   "cell_type": "code",
   "execution_count": 75,
   "id": "a5dd9e99-7bcb-4bc5-90f8-410466f2778d",
   "metadata": {},
   "outputs": [],
   "source": [
    "#%%\n",
    "# Find the parent folder of the folder indicated by the user. This parent folder contains all the data relative to the folder.\n",
    "if twolevels.value is False:\n",
    "    main_folder=str(Path(folder_path.value).parent.absolute())\n",
    "else:\n",
    "    main_folder=folder_path.value\n",
    "    \n",
    "data_all_paths =glob.glob(os.path.join(main_folder, \"*_data_pos.pkl\"))\n",
    "\n",
    "\n",
    "data_all=pd.DataFrame({\n",
    "    'time': [],\n",
    "    'diameter': [],\n",
    "    'section_area': [],\n",
    "    'circularity': [],\n",
    "    'source_image': [],\n",
    "    'pixel_size': []\n",
    "    })\n",
    "for data_pos_path in data_all_paths:\n",
    "    data_pos = pd.read_pickle(data_pos_path)\n",
    "    # diameters=np.load(data_path)\n",
    "    data_all=pd.concat([data_all,data_pos],ignore_index=True)\n",
    "\n",
    "data_all.to_excel(os.path.join(main_folder, 'data_all.xlsx'))\n",
    "data_all.to_pickle(os.path.join(main_folder, 'data_all.pkl'))"
   ]
  },
  {
   "cell_type": "markdown",
   "id": "1bbc2b85-4f61-48e6-86a4-cd3a7af2815a",
   "metadata": {
    "tags": []
   },
   "source": [
    "<h2>The next section creates a GUI to load the data to plot.\n",
    "<br>\n",
    "If you ran the previous section just before, this section is facultative.\n",
    "<br>\n",
    "This section can be used if you want to plot previous data, just by loading the data_all.pkl file</h2>"
   ]
  },
  {
   "cell_type": "code",
   "execution_count": null,
   "id": "0088e058-ce5f-45ab-91c7-de1ca40f8637",
   "metadata": {},
   "outputs": [],
   "source": [
    "#%%\n",
    "# Create a button widget\n",
    "buttonPathData = widgets.Button(description=\"Find path to the data_all.pkl file\",\n",
    "                        layout={'height': 'auto', 'width': 'auto'})\n",
    "# Create a text output widget\n",
    "outputPathData = widgets.Text(layout={'height': 'auto', 'width': '75%'})\n",
    "\n",
    "if 'folder_all_path' in locals():\n",
    "    outputPathData.value=os.path.join(folder_all_path, 'data_all.pkl')\n",
    "# Define a function to be called when the button is clicked\n",
    "def find_path_data(b):\n",
    "    # Use the filedialog module to open a file or directory selection dialog\n",
    "    root = tkinter.Tk()\n",
    "    root.withdraw()\n",
    "    root.wm_attributes('-topmost', 1)\n",
    "    datapkl_path= askopenfilename(title=\"Path to data_all.pkl file of your project\",parent=root)\n",
    "    outputPathData.value=datapkl_path\n",
    "    \n",
    "buttonPathData.on_click(find_path_data)\n",
    "\n",
    "# Display the button widget in the output area\n",
    "display(widgets.HBox(children=[buttonPathData, outputPathData]))\n"
   ]
  },
  {
   "cell_type": "markdown",
   "id": "9811c2a5-b929-4b6a-8536-53d280c9b97d",
   "metadata": {
    "tags": []
   },
   "source": [
    "<h2>The next sections to plot the data contained in the data_all folder</h2>"
   ]
  },
  {
   "cell_type": "code",
   "execution_count": 76,
   "id": "5a1da400-5ffc-4933-8dba-485ca47da93c",
   "metadata": {},
   "outputs": [
    {
     "ename": "IndexError",
     "evalue": "list index out of range",
     "output_type": "error",
     "traceback": [
      "\u001b[1;31m---------------------------------------------------------------------------\u001b[0m",
      "\u001b[1;31mIndexError\u001b[0m                                Traceback (most recent call last)",
      "\u001b[1;32m~\\AppData\\Local\\Temp\\ipykernel_14076\\535321197.py\u001b[0m in \u001b[0;36m<module>\u001b[1;34m\u001b[0m\n\u001b[0;32m     18\u001b[0m \u001b[1;33m\u001b[0m\u001b[0m\n\u001b[0;32m     19\u001b[0m \u001b[1;31m#set the alpha for the violin plot (no easier way...)\u001b[0m\u001b[1;33m\u001b[0m\u001b[1;33m\u001b[0m\u001b[0m\n\u001b[1;32m---> 20\u001b[1;33m \u001b[0mtmpcol\u001b[0m\u001b[1;33m=\u001b[0m\u001b[0mg\u001b[0m\u001b[1;33m.\u001b[0m\u001b[0max\u001b[0m\u001b[1;33m.\u001b[0m\u001b[0mcollections\u001b[0m\u001b[1;33m[\u001b[0m\u001b[1;36m0\u001b[0m\u001b[1;33m]\u001b[0m\u001b[1;33m.\u001b[0m\u001b[0mget_facecolor\u001b[0m\u001b[1;33m(\u001b[0m\u001b[1;33m)\u001b[0m\u001b[1;33m\u001b[0m\u001b[1;33m\u001b[0m\u001b[0m\n\u001b[0m\u001b[0;32m     21\u001b[0m \u001b[0mtmpcol\u001b[0m\u001b[1;33m[\u001b[0m\u001b[1;36m0\u001b[0m\u001b[1;33m,\u001b[0m\u001b[1;36m3\u001b[0m\u001b[1;33m]\u001b[0m\u001b[1;33m=\u001b[0m\u001b[1;36m0.5\u001b[0m\u001b[1;33m\u001b[0m\u001b[1;33m\u001b[0m\u001b[0m\n\u001b[0;32m     22\u001b[0m \u001b[1;32mfor\u001b[0m \u001b[0mviolin\u001b[0m \u001b[1;32min\u001b[0m \u001b[0mg\u001b[0m\u001b[1;33m.\u001b[0m\u001b[0max\u001b[0m\u001b[1;33m.\u001b[0m\u001b[0mcollections\u001b[0m\u001b[1;33m[\u001b[0m\u001b[1;33m:\u001b[0m\u001b[1;33m]\u001b[0m\u001b[1;33m:\u001b[0m\u001b[1;33m\u001b[0m\u001b[1;33m\u001b[0m\u001b[0m\n",
      "\u001b[1;32m~\\.conda\\envs\\CellposeEnvi\\lib\\site-packages\\matplotlib\\axes\\_base.py\u001b[0m in \u001b[0;36m__getitem__\u001b[1;34m(self, key)\u001b[0m\n\u001b[0;32m   1415\u001b[0m \u001b[1;33m\u001b[0m\u001b[0m\n\u001b[0;32m   1416\u001b[0m         \u001b[1;32mdef\u001b[0m \u001b[0m__getitem__\u001b[0m\u001b[1;33m(\u001b[0m\u001b[0mself\u001b[0m\u001b[1;33m,\u001b[0m \u001b[0mkey\u001b[0m\u001b[1;33m)\u001b[0m\u001b[1;33m:\u001b[0m\u001b[1;33m\u001b[0m\u001b[1;33m\u001b[0m\u001b[0m\n\u001b[1;32m-> 1417\u001b[1;33m             return [artist\n\u001b[0m\u001b[0;32m   1418\u001b[0m                     \u001b[1;32mfor\u001b[0m \u001b[0martist\u001b[0m \u001b[1;32min\u001b[0m \u001b[0mself\u001b[0m\u001b[1;33m.\u001b[0m\u001b[0m_axes\u001b[0m\u001b[1;33m.\u001b[0m\u001b[0m_children\u001b[0m\u001b[1;33m\u001b[0m\u001b[1;33m\u001b[0m\u001b[0m\n\u001b[0;32m   1419\u001b[0m                     if self._type_check(artist)][key]\n",
      "\u001b[1;31mIndexError\u001b[0m: list index out of range"
     ]
    },
    {
     "data": {
      "image/png": "[encoded data removed]",
      "text/plain": [
       "<Figure size 500x500 with 1 Axes>"
      ]
     },
     "metadata": {},
     "output_type": "display_data"
    }
   ],
   "source": [
    "if 'outputPathData' in locals():\n",
    "    data_all = pd.read_pickle(outputPathData.value)\n",
    "    folder_all_path=str(Path(outputPathData.value).parent.absolute())\n",
    "    \n",
    "g = sns.catplot(data=data_all, x=\"time\", y=\"diameter\", kind=\"violin\")\n",
    "g.ax.set(xlabel='Time (days post seeding)', ylabel='Pseudo-diameter (µm)')\n",
    "\n",
    "nobs = data_all['time'].value_counts().values\n",
    "nobs = [str(y) for y in nobs.tolist()]\n",
    "nobs = [\"n: \" + j for j in nobs]  \n",
    "\n",
    "mobs=max(data_all['diameter'])\n",
    "    \n",
    "pos = range(len(nobs))\n",
    "for tick in pos:\n",
    "    g.ax.text(pos[tick], mobs, nobs[tick], horizontalalignment='center', size='x-small', color='k', weight='semibold')\n",
    "    \n",
    "    \n",
    "#set the alpha for the violin plot (no easier way...)\n",
    "tmpcol=g.ax.collections[0].get_facecolor()\n",
    "tmpcol[0,3]=0.5\n",
    "for violin in g.ax.collections[:]:\n",
    "    violin.set_facecolor(tmpcol)\n",
    "    \n",
    "#sns.swarmplot(data=data_all, x=\"time\", y=\"diameter\", color=\"k\", size=3)\n",
    "#plt.setp(g.ax.collections, alpha=.3)\n",
    "\n",
    "plt.savefig(os.path.join(folder_all_path, 'diameter_all.pdf'))\n",
    "plt.show()"
   ]
  },
  {
   "cell_type": "code",
   "execution_count": null,
   "id": "e21525c6-8a54-42f7-89dd-1febcdc57701",
   "metadata": {},
   "outputs": [],
   "source": [
    "if 'outputPathData' in locals():\n",
    "    data_all = pd.read_pickle(outputPathData.value)\n",
    "    folder_all_path=str(Path(outputPathData.value).parent.absolute())\n",
    "    \n",
    "g = sns.catplot(data=data_all, x=\"time\", y=\"section_area\", kind=\"violin\")\n",
    "g.ax.set(xlabel='Time (days post seeding)', ylabel='Section area (µm²)')\n",
    "\n",
    "nobs = data_all['time'].value_counts().values\n",
    "nobs = [str(y) for y in nobs.tolist()]\n",
    "nobs = [\"n: \" + j for j in nobs]  \n",
    "\n",
    "mobs=max(data_all['section_area'])\n",
    "    \n",
    "pos = range(len(nobs))\n",
    "for tick in pos:\n",
    "    g.ax.text(pos[tick], mobs, nobs[tick], horizontalalignment='center', size='x-small', color='k', weight='semibold')\n",
    "    \n",
    "    \n",
    "#set the alpha for the violin plot (no easier way...)\n",
    "tmpcol=g.ax.collections[0].get_facecolor()\n",
    "tmpcol[0,3]=0.5\n",
    "for violin in g.ax.collections[:]:\n",
    "    violin.set_facecolor(tmpcol)\n",
    "    \n",
    "#sns.swarmplot(data=data_all, x=\"time\", y=\"diameter\", color=\"k\", size=3)\n",
    "#plt.setp(g.ax.collections, alpha=.3)\n",
    "\n",
    "plt.savefig(os.path.join(folder_all_path, 'section_area_all.pdf'))\n",
    "plt.show()"
   ]
  },
  {
   "cell_type": "code",
   "execution_count": null,
   "id": "578b8d7e-07ab-411f-8e8a-45cf1530bd66",
   "metadata": {},
   "outputs": [],
   "source": [
    "if 'outputPathData' in locals():\n",
    "    data_all = pd.read_pickle(outputPathData.value)\n",
    "    folder_all_path=str(Path(outputPathData.value).parent.absolute())\n",
    "    \n",
    "g = sns.catplot(data=data_all, x=\"time\", y=\"circularity\", kind=\"violin\")\n",
    "g.ax.set(xlabel='Time (days post seeding)', ylabel='Section area (µm²)')\n",
    "\n",
    "nobs = data_all['time'].value_counts().values\n",
    "nobs = [str(y) for y in nobs.tolist()]\n",
    "nobs = [\"n: \" + j for j in nobs]  \n",
    "\n",
    "mobs=max(data_all['circularity'])\n",
    "    \n",
    "pos = range(len(nobs))\n",
    "for tick in pos:\n",
    "    g.ax.text(pos[tick], mobs, nobs[tick], horizontalalignment='center', size='x-small', color='k', weight='semibold')\n",
    "    \n",
    "    \n",
    "#set the alpha for the violin plot (no easier way...)\n",
    "tmpcol=g.ax.collections[0].get_facecolor()\n",
    "tmpcol[0,3]=0.5\n",
    "for violin in g.ax.collections[:]:\n",
    "    violin.set_facecolor(tmpcol)\n",
    "    \n",
    "#sns.swarmplot(data=data_all, x=\"time\", y=\"diameter\", color=\"k\", size=3)\n",
    "#plt.setp(g.ax.collections, alpha=.3)\n",
    "\n",
    "plt.savefig(os.path.join(folder_all_path, 'circularity_all.pdf'))\n",
    "plt.show()"
   ]
  },
  {
   "cell_type": "markdown",
   "id": "289e75cd-3047-4261-93b8-d76476a4d923",
   "metadata": {},
   "source": [
    "**If you need to retrain the Cellpose model, first launch Cellpose** and follow the instructions from https://cellpose.readthedocs.io/en/latest/gui.html#training-your-own-cellpose-model"
   ]
  }
 ],
 "metadata": {
  "kernelspec": {
   "display_name": "Python 3 (ipykernel)",
   "language": "python",
   "name": "python3"
  },
  "language_info": {
   "codemirror_mode": {
    "name": "ipython",
    "version": 3
   },
   "file_extension": ".py",
   "mimetype": "text/x-python",
   "name": "python",
   "nbconvert_exporter": "python",
   "pygments_lexer": "ipython3",
   "version": "3.9.15"
  }
 },
 "nbformat": 4,
 "nbformat_minor": 5
}
