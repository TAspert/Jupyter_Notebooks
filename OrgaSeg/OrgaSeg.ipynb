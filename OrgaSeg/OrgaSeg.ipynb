{
 "cells": [
  {
   "cell_type": "markdown",
   "id": "f5746122-acbb-4d2a-84f8-470dd5333769",
   "metadata": {},
   "source": [
    "**This Jupyter Notebook segments objects in images present in folders and extract the diameter of the objects, before plotting them.**\n",
    "<p>The code has been design to work on such folder architecture: \n",
    "    <br>Main_Folder\n",
    "            <br>&emsp;&emsp;Position_1\n",
    "            <br>&emsp;&emsp;Position_2\n",
    "            <br>&emsp;&emsp;...\n",
    "            <br>&emsp;&emsp;Position_N\n",
    "    \n",
    "And when it asks for an image folder, it means a Position_i folder.\n",
    "<br>\n",
    "After segmenting the images from the Position_i folder, the code computes the size of each mask and in particular the diameter, and export the value for each images, with the suffix *_data*.\n",
    "Then, it merges all the data from one image folder into one file with the suffix *data_pos* <br>\n",
    "Once you are done computing all the image folders, it merges all the data from one image folder into one file with the suffix *data_pos*\n",
    "\n",
    "    \n",
    "This notebook requires Cellpose and tqdm (included in the following cellpose install). If not installed, run the following command or find more info at https://github.com/MouseLand/cellpose: </p>"
   ]
  },
  {
   "cell_type": "code",
   "execution_count": null,
   "id": "db3294e8-bd4f-49c0-8a1b-de9ffa5e9971",
   "metadata": {},
   "outputs": [],
   "source": [
    "!pip install cellpose[gui]"
   ]
  },
  {
   "cell_type": "markdown",
   "id": "0c9e7d41-4f72-4c16-b5a6-d4122a2bde6e",
   "metadata": {},
   "source": [
    "<h4>The next section loads the required libraries for the code to work:</h4>"
   ]
  },
  {
   "cell_type": "code",
   "execution_count": 1,
   "id": "472ff74f-6339-4b18-958a-1e4dda31d505",
   "metadata": {
    "tags": []
   },
   "outputs": [],
   "source": [
    "# Import required libraries\n",
    "import glob\n",
    "import os\n",
    "from pathlib import Path\n",
    "import tkinter\n",
    "import math\n",
    "\n",
    "from dataclasses import dataclass\n",
    "\n",
    "from tqdm.notebook import trange, tqdm\n",
    "\n",
    "import matplotlib.pyplot as plt\n",
    "import seaborn as sns\n",
    "#import ptitprince as pt # if not installed, run: \"conda install -c conda-forge ptitprince\"\n",
    "\n",
    "import numpy as np\n",
    "from tkinter.filedialog import askdirectory, askopenfilename\n",
    "import pandas as pd\n",
    "from skimage import io, measure\n",
    "from cellpose import models, utils, io as iocp\n",
    "\n",
    "import ipywidgets as widgets"
   ]
  },
  {
   "cell_type": "markdown",
   "id": "e59cf507-f4b0-4a5e-92f1-d6587315930e",
   "metadata": {},
   "source": [
    "<h3>Then, create a user interface to find the path to a Cellpose model, to determine the pixel size of the image, and to determine the approximate size of the objects to segment. It also asks if you want to use a GPU for the computation.</h3>\n",
    "\n",
    "<h4> GPU version (CUDA) on Windows or Linux</h4>\n",
    "If you plan on running many images, you may want to install a GPU version of *torch* (if it isn't already installed).\n",
    "<br>Before installing the GPU version, remove the CPU version:\n",
    "<br><code>pip uninstall torch</code>\n",
    "\n",
    "Follow the instructions <a href=\"https://pytorch.org/get-started/locally/\">here</a> to determine what version to install. The Anaconda install is strongly recommended, and then choose the CUDA version that is supported by your GPU (newer GPUs may need newer CUDA versions > 10.2). For instance this command will install the 11.3 version on Linux and Windows (note the <code>torchvision</code> and <code>torchaudio</code> commands are removed because cellpose doesn't require them):\n",
    "<br><code>conda install pytorch cudatoolkit=11.3 -c pytorch</code>"
   ]
  },
  {
   "cell_type": "code",
   "execution_count": 2,
   "id": "92766d2a-da88-47cf-abbb-4fce45b936ac",
   "metadata": {},
   "outputs": [
    {
     "data": {
      "application/vnd.jupyter.widget-view+json": {
       "model_id": "5b47baaef6a440d3a5f1074ed0fc0e6b",
       "version_major": 2,
       "version_minor": 0
      },
      "text/plain": [
       "HBox(children=(Button(description='Find path to the model', layout=Layout(height='auto', width='auto'), style=…"
      ]
     },
     "metadata": {},
     "output_type": "display_data"
    },
    {
     "data": {
      "application/vnd.jupyter.widget-view+json": {
       "model_id": "2c145a7f06ed4beea1dded3fa3c9551d",
       "version_major": 2,
       "version_minor": 0
      },
      "text/plain": [
       "HBox(children=(Label(value='Pixel size (in µm)'), FloatText(value=0.7211538461538461, layout=Layout(height='au…"
      ]
     },
     "metadata": {},
     "output_type": "display_data"
    },
    {
     "data": {
      "application/vnd.jupyter.widget-view+json": {
       "model_id": "695cd66b7dc7471db8215f3e753a3d88",
       "version_major": 2,
       "version_minor": 0
      },
      "text/plain": [
       "HBox(children=(Label(value='Approx mean diameter of the EB (in pixels)'), FloatText(value=150.0, layout=Layout…"
      ]
     },
     "metadata": {},
     "output_type": "display_data"
    },
    {
     "data": {
      "application/vnd.jupyter.widget-view+json": {
       "model_id": "84417b9f5d5d4e96be561c64d8785b2e",
       "version_major": 2,
       "version_minor": 0
      },
      "text/plain": [
       "Checkbox(value=False, description='Use GPU? Check the requirments at https://github.com/MouseLand/cellpose if …"
      ]
     },
     "metadata": {},
     "output_type": "display_data"
    }
   ],
   "source": [
    "# Create a button widget\n",
    "buttonPathModel = widgets.Button(description=\"Find path to the model\",\n",
    "                        layout={'height': 'auto', 'width': 'auto'})\n",
    "# Create a text output widget\n",
    "outputPathModel = widgets.Text(layout={'height': 'auto', 'width': '75%'})\n",
    "\n",
    "# Define a function to be called when the button is clicked\n",
    "def find_path(b):\n",
    "    # Use the filedialog module to open a file or directory selection dialog\n",
    "    root = tkinter.Tk()\n",
    "    root.withdraw()\n",
    "    root.wm_attributes('-topmost', 1)\n",
    "    model_path= askopenfilename(title=\"Path to the model of segmentation\",parent=root)\n",
    "    outputPathModel.value=model_path\n",
    "\n",
    "# Attach the button-click function to the button widget\n",
    "buttonPathModel.on_click(find_path)\n",
    "\n",
    "# Display the button widget in the output area\n",
    "display(widgets.HBox(children=[buttonPathModel, outputPathModel]))\n",
    "\n",
    "\n",
    "\n",
    "\n",
    "#%%\n",
    "# Create a text input widget\n",
    "pixsize = widgets.FloatText(value=150/208,\n",
    "                               layout={'height': 'auto', 'width': 'auto'})\n",
    "\n",
    "# Define a function to be called when the text input is changed\n",
    "def update_pixsize(change):\n",
    "    # Update the value of the variable to the current value of the text input\n",
    "    pixsize.value = change.new\n",
    "# Attach the text input change function to the text input widget\n",
    "pixsize.observe(update_pixsize, names=\"value\")\n",
    "\n",
    "# Display the text input widget in the output area\n",
    "labelpix = widgets.Label(value=\"Pixel size (in µm)\")\n",
    "containerpix = widgets.HBox(children=[labelpix, pixsize])\n",
    "display(containerpix)\n",
    "\n",
    "\n",
    "# Create a text input widget\n",
    "diam = widgets.FloatText(value=150,\n",
    "                         layout={'height': 'auto', 'width': 'auto'})\n",
    "\n",
    "# Define a function to be called when the text input is changed\n",
    "def update_diam(change):\n",
    "    # Update the value of the variable to the current value of the text input\n",
    "    diam.value = change.new\n",
    "\n",
    "# Attach the text input change function to the text input widget\n",
    "diam.observe(update_diam, names=\"value\")\n",
    "\n",
    "# Display the text input widget in the output area\n",
    "\n",
    "labeldiam = widgets.Label(value=\"Approx mean diameter of the EB (in pixels)\")\n",
    "containerdiam = widgets.HBox(children=[labeldiam, diam])\n",
    "display(containerdiam)\n",
    "\n",
    "\n",
    "gpuval=widgets.Checkbox(\n",
    "    value=False,\n",
    "    description='Use GPU? Check the requirments at https://github.com/MouseLand/cellpose if you think you can.',\n",
    "    disabled=False,\n",
    "    indent=False,\n",
    "    layout={'height': 'auto', 'width': 'auto'}\n",
    ")\n",
    "display(gpuval)\n"
   ]
  },
  {
   "cell_type": "markdown",
   "id": "3ecced55-8f22-485b-9c96-dedaeb4f683d",
   "metadata": {},
   "source": [
    "<h4>Then, create a GUI to select the image folders:</h4>"
   ]
  },
  {
   "cell_type": "code",
   "execution_count": 3,
   "id": "2555e4bb-cbe9-412d-8008-ebfe6bc332aa",
   "metadata": {},
   "outputs": [
    {
     "data": {
      "application/vnd.jupyter.widget-view+json": {
       "model_id": "435beb92e3a3404089bf00547e147415",
       "version_major": 2,
       "version_minor": 0
      },
      "text/plain": [
       "HBox(children=(Label(value='Timepoint (in whatever unit you wish)'), FloatText(value=1.0, layout=Layout(height…"
      ]
     },
     "metadata": {},
     "output_type": "display_data"
    },
    {
     "data": {
      "application/vnd.jupyter.widget-view+json": {
       "model_id": "811d9499dc4b4c0bbafd6e5e475e2751",
       "version_major": 2,
       "version_minor": 0
      },
      "text/plain": [
       "HBox(children=(Button(description='Find path to the images', layout=Layout(height='auto', width='auto'), style…"
      ]
     },
     "metadata": {},
     "output_type": "display_data"
    }
   ],
   "source": [
    "# Create a button widget\n",
    "buttonfind_path = widgets.Button(description=\"Find path to the images\", \n",
    "                        layout={'height': 'auto', 'width': 'auto'})\n",
    "# Create a text output widget\n",
    "folder_path = widgets.Text(layout={'height': 'auto', 'width': '75%'})\n",
    "# Define a function to be called when the button is clicked\n",
    "def find_path(b):\n",
    "    # Use the filedialog module to open a file or directory selection dialog\n",
    "    root = tkinter.Tk()\n",
    "    root.withdraw()\n",
    "    root.wm_attributes('-topmost', 1)\n",
    "    folder_path.value = askdirectory(title=\"Path to the folder containing images to be segmented\",parent=root)\n",
    "    \n",
    "    \n",
    "# Attach the button-click function to the button widget\n",
    "buttonfind_path.on_click(find_path)\n",
    "\n",
    "\n",
    "\n",
    "\n",
    "\n",
    "# Create a text input widget\n",
    "timeu = widgets.FloatText(value=1,\n",
    "                                   layout={'height': 'auto', 'width': 'auto'})\n",
    "# Define a function to be called when the text input is changed\n",
    "def update_time(change):\n",
    "    # Update the value of the variable to the current value of the text input\n",
    "    timeu.value=change.new\n",
    "\n",
    "    # Attach the text input change function to the text input widget\n",
    "timeu.observe(update_time, names=\"value\")\n",
    "\n",
    "# Display the text input widget in the output area\n",
    "labeltime = widgets.Label(value=\"Timepoint (in whatever unit you wish)\")\n",
    "containertime = widgets.HBox(children=[labeltime, timeu])\n",
    "display(containertime)\n",
    "\n",
    "\n",
    "\n",
    "\n",
    "\n",
    "# Display the button widget in the output area\n",
    "display(widgets.HBox(children=[buttonfind_path, folder_path]))"
   ]
  },
  {
   "cell_type": "markdown",
   "id": "33238b38-49d5-45ac-a62d-0bcd68e3bb0e",
   "metadata": {},
   "source": [
    "<h4>The following section executes the segmentation on the images from the input folder and saves the diameter for each image.</h4>"
   ]
  },
  {
   "cell_type": "code",
   "execution_count": 5,
   "id": "5456ba04-571b-4398-973a-9879735feaec",
   "metadata": {},
   "outputs": [
    {
     "data": {
      "application/vnd.jupyter.widget-view+json": {
       "model_id": "8f2a0718549a44269ca503803222e25e",
       "version_major": 2,
       "version_minor": 0
      },
      "text/plain": [
       "Images:   0%|          | 0/3 [00:00<?, ?img/s]"
      ]
     },
     "metadata": {},
     "output_type": "display_data"
    }
   ],
   "source": [
    "# Get the list of images in the folder\n",
    "#image_paths =glob.glob(folder_path + \"/*.jpg\")\n",
    "image_paths=iocp.get_image_files(folder_path.value, ['_masks'], imf=None, look_one_level_down=False)\n",
    "\n",
    "image_paths=list(dict.fromkeys(image_paths)) #remove duplicates using a dictionary fct\n",
    "\n",
    "# Load the cellpose model\n",
    "model = models.CellposeModel(gpu=gpuval.value, pretrained_model=outputPathModel.value)\n",
    "\n",
    "channels=[0,0]\n",
    "# Segment the image using cellpose\n",
    "for image_path in tqdm(image_paths, desc='Images', unit='img'):\n",
    "    img= io.imread(image_path)\n",
    "    mask, flow, style = model.eval(img,channels=channels,diameter=diam.value)\n",
    "\n",
    "    iocp.save_masks(img, \n",
    "              mask, \n",
    "              flow, \n",
    "              image_path, \n",
    "              channels=channels,\n",
    "              png=True, # save masks as PNGs and save example image\n",
    "              tif=False, # save masks as TIFFs\n",
    "              save_txt=False, # save txt outlines for ImageJ\n",
    "              save_flows=False, # save flows as TIFFs\n",
    "              save_outlines=False, # save outlines as TIFFs. Useful to use with ImageJ\n",
    "              )\n",
    "\n",
    "    mask2=utils.remove_edge_masks(mask)\n",
    "    outline=utils.masks_to_outlines(mask2)\n",
    "    #perimeters=utils.get_mask_perimeters(mask2)\n",
    "    regions = measure.regionprops(mask2)\n",
    "    \n",
    "    diameters=[]\n",
    "    source_image=[]\n",
    "    time=[]\n",
    "    #perimeters2=np.empty((len(regions),1))\n",
    "    for k in range(len(regions)):\n",
    "        diameters+=[regions[k].equivalent_diameter_area]\n",
    "        source_image+=[image_path]\n",
    "        time+=[timeu.value]\n",
    "        #perimeters2[k]=regions[k].perimeter\n",
    "\n",
    "    data=pd.DataFrame({\n",
    "        'time': time,\n",
    "        'diameter': diameters,\n",
    "        'source_image': source_image\n",
    "        })\n",
    "    \n",
    "    data.to_excel((os.path.splitext(image_path)[0] + '_data.xlsx'))\n",
    "    data.to_pickle((os.path.splitext(image_path)[0] + '_data.pkl'))\n",
    "\n",
    "#% Merge all the data from the position\n",
    "data_paths =glob.glob(folder_path.value + \"/*data.pkl\")\n",
    "\n",
    "data_pos=pd.DataFrame({\n",
    "    'time': [],\n",
    "    'diameter': [],\n",
    "    'source_image': []\n",
    "    })\n",
    "# diameters_pos=pd.DataFrame([])\n",
    "for data_path in data_paths:\n",
    "    data = pd.read_pickle(data_path)\n",
    "    # diameters=np.load(data_path)\n",
    "    \n",
    "    pos_name=os.path.basename(folder_path.value).split('_data')[0]\n",
    "    \n",
    "    data_pos=pd.concat([data_pos,data],ignore_index=True)\n",
    "    # diameters_pos=np.append(diameters_all,diameters)\n",
    "\n",
    "folder_all_path=str(Path(folder_path.value).parent.absolute())\n",
    "data_pos.to_excel(os.path.join(folder_all_path, pos_name+'_data_pos.xlsx'))\n",
    "data_pos.to_pickle(os.path.join(folder_all_path, pos_name+'_data_pos.pkl'))"
   ]
  },
  {
   "cell_type": "markdown",
   "id": "db91018f-578a-4596-9d78-ef8736dd7595",
   "metadata": {},
   "source": [
    "<h3>Only once all the folders of choice have been segmented, run the next section to merge the data from all the folders into a file ending by \"data_all\"</h3>"
   ]
  },
  {
   "cell_type": "code",
   "execution_count": 6,
   "id": "a5dd9e99-7bcb-4bc5-90f8-410466f2778d",
   "metadata": {},
   "outputs": [],
   "source": [
    "#%%\n",
    "# Find the parent folder of the folder indicated by the user. This parent folder contains all the data relative to the folder.\n",
    "folder_all_path=str(Path(folder_path.value).parent.absolute())\n",
    "data_all_paths =glob.glob(os.path.join(folder_all_path, \"*_data_pos.pkl\"))\n",
    "\n",
    "\n",
    "data_all=pd.DataFrame({\n",
    "    'time': [],\n",
    "    'diameter': [],\n",
    "    'source_image': []\n",
    "    })\n",
    "for data_pos_path in data_all_paths:\n",
    "    data_pos = pd.read_pickle(data_pos_path)\n",
    "    # diameters=np.load(data_path)\n",
    "    data_all=pd.concat([data_all,data_pos],ignore_index=True)\n",
    "\n",
    "folder_all_path=str(Path(folder_path.value).parent.absolute())\n",
    "data_all.to_excel(os.path.join(folder_all_path, 'data_all.xlsx'))\n",
    "data_all.to_pickle(os.path.join(folder_all_path, 'data_all.pkl'))"
   ]
  },
  {
   "cell_type": "markdown",
   "id": "1bbc2b85-4f61-48e6-86a4-cd3a7af2815a",
   "metadata": {},
   "source": [
    "<h2>The next section creates a GUI to load the data to plot. If you ran the previous section just before, this section is facultative</h2>"
   ]
  },
  {
   "cell_type": "code",
   "execution_count": 9,
   "id": "0088e058-ce5f-45ab-91c7-de1ca40f8637",
   "metadata": {},
   "outputs": [
    {
     "data": {
      "application/vnd.jupyter.widget-view+json": {
       "model_id": "80e86df954c642409e4c56d9dc941e58",
       "version_major": 2,
       "version_minor": 0
      },
      "text/plain": [
       "HBox(children=(Button(description='Find path to the data_all.pkl file', layout=Layout(height='auto', width='au…"
      ]
     },
     "metadata": {},
     "output_type": "display_data"
    }
   ],
   "source": [
    "#%%\n",
    "# Create a button widget\n",
    "buttonPathData = widgets.Button(description=\"Find path to the data_all.pkl file\",\n",
    "                        layout={'height': 'auto', 'width': 'auto'})\n",
    "# Create a text output widget\n",
    "outputPathData = widgets.Text(layout={'height': 'auto', 'width': '75%'})\n",
    "\n",
    "if 'folder_all_path' in locals():\n",
    "    outputPathData.value=os.path.join(folder_all_path, 'data_all.pkl')\n",
    "# Define a function to be called when the button is clicked\n",
    "def find_path_data(b):\n",
    "    # Use the filedialog module to open a file or directory selection dialog\n",
    "    root = tkinter.Tk()\n",
    "    root.withdraw()\n",
    "    root.wm_attributes('-topmost', 1)\n",
    "    datapkl_path= askopenfilename(title=\"Path to data_all.pkl file of your project\",parent=root)\n",
    "    outputPathData.value=datapkl_path\n",
    "\n",
    "# Attach the button-click function to the button widget\n",
    "buttonPathData.on_click(find_path_data)\n",
    "\n",
    "# Display the button widget in the output area\n",
    "display(widgets.HBox(children=[buttonPathData, outputPathData]))\n",
    "\n",
    "\n",
    "\n",
    "data_all = pd.read_pickle(outputPathData.value)"
   ]
  },
  {
   "cell_type": "markdown",
   "id": "9811c2a5-b929-4b6a-8536-53d280c9b97d",
   "metadata": {},
   "source": [
    "<h2>The next section to plot the diameters contained in the data_all folder</h2>"
   ]
  },
  {
   "cell_type": "code",
   "execution_count": 10,
   "id": "5a1da400-5ffc-4933-8dba-485ca47da93c",
   "metadata": {},
   "outputs": [
    {
     "data": {
      "image/png": "[encoded data removed]",
      "text/plain": [
       "<Figure size 500x500 with 1 Axes>"
      ]
     },
     "metadata": {},
     "output_type": "display_data"
    }
   ],
   "source": [
    "g = sns.catplot(data=data_all, x=\"time\", y=\"diameter\", kind=\"violin\")\n",
    "g.ax.set(xlabel='Time (days post seeding)', ylabel='Pseudo-diameter (µm)')\n",
    "\n",
    "nobs = data_all['time'].value_counts().values\n",
    "nobs = [str(y) for y in nobs.tolist()]\n",
    "nobs = [\"n: \" + j for j in nobs]  \n",
    "\n",
    "\n",
    "pos = range(len(nobs))\n",
    "for tick in pos:\n",
    "    g.ax.text(pos[tick], 500, nobs[tick], horizontalalignment='center', size='x-small', color='k', weight='semibold')\n",
    "    \n",
    "    \n",
    "    \n",
    "#set the alpha for the violin plot (no easier way...)\n",
    "tmpcol=g.ax.collections[0].get_facecolor()\n",
    "tmpcol[0,3]=0.5\n",
    "for violin in g.ax.collections[:]:\n",
    "    violin.set_facecolor(tmpcol)\n",
    "    \n",
    "#sns.swarmplot(data=data_all, x=\"time\", y=\"diameter\", color=\"k\", size=3)\n",
    "#plt.setp(g.ax.collections, alpha=.3)\n",
    "\n",
    "plt.savefig(os.path.join(folder_all_path, 'data_all.pdf'))\n",
    "plt.show()"
   ]
  },
  {
   "cell_type": "markdown",
   "id": "289e75cd-3047-4261-93b8-d76476a4d923",
   "metadata": {},
   "source": [
    "**If you need to retrain the Cellpose model, first launch Cellpose** and follow the instructions from https://cellpose.readthedocs.io/en/latest/gui.html#training-your-own-cellpose-model"
   ]
  },
  {
   "cell_type": "code",
   "execution_count": null,
   "id": "038cad04-e1be-4f16-9d98-194e9f93c884",
   "metadata": {},
   "outputs": [],
   "source": [
    "! python -m cellpose"
   ]
  }
 ],
 "metadata": {
  "kernelspec": {
   "display_name": "Python 3 (ipykernel)",
   "language": "python",
   "name": "python3"
  },
  "language_info": {
   "codemirror_mode": {
    "name": "ipython",
    "version": 3
   },
   "file_extension": ".py",
   "mimetype": "text/x-python",
   "name": "python",
   "nbconvert_exporter": "python",
   "pygments_lexer": "ipython3",
   "version": "3.9.15"
  }
 },
 "nbformat": 4,
 "nbformat_minor": 5
}
