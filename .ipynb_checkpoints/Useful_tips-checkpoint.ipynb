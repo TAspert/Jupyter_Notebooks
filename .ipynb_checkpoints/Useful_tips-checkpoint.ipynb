{
 "cells": [
  {
   "cell_type": "code",
   "execution_count": null,
   "id": "833ebf5d-3992-4f35-b91e-6961f1a810dc",
   "metadata": {},
   "outputs": [],
   "source": [
    "https://coderzcolumn.com/tutorials/python/interactive-widgets-in-jupyter-notebook-using-ipywidgets"
   ]
  },
  {
   "cell_type": "markdown",
   "id": "5caf547a-69c6-4e85-9e11-f298aa00c0f5",
   "metadata": {},
   "source": [
    "<h2>Saving images</h2>"
   ]
  },
  {
   "cell_type": "code",
   "execution_count": null,
   "id": "0d6a573b-bde5-481c-a3e1-aa3467003fc7",
   "metadata": {},
   "outputs": [],
   "source": [
    "\n",
    "    \n",
    "import matplotlib.pyplot as plt\n",
    "\n",
    "# Save an image in PNG format\n",
    "plt.imshow(image)\n",
    "plt.axis('off')\n",
    "plt.savefig('image.png', bbox_inches='tight', pad_inches=0)\n",
    "\n",
    "or\n",
    "\n",
    "\n",
    "\n",
    "from PIL import Image\n",
    "\n",
    "# Save an image in PNG format\n",
    "im = Image.fromarray(image)\n",
    "im.save('image.png')\n",
    "\n",
    "\n",
    "or\n",
    "\n",
    "\n",
    "import cv2\n",
    "\n",
    "# Save an image in PNG format\n",
    "cv2.imwrite('image.png', image)"
   ]
  },
  {
   "cell_type": "markdown",
   "id": "96ad3332-4648-44df-9e1f-e1595ba0a209",
   "metadata": {},
   "source": [
    "<h2>Append a list</h2>"
   ]
  },
  {
   "cell_type": "code",
   "execution_count": null,
   "id": "9dd6317a-ec36-48aa-acbd-82853caa947c",
   "metadata": {},
   "outputs": [],
   "source": [
    "a=[]\n",
    "for k in range(len(regions)):\n",
    "    a+=[k]\n",
    "    a.append(k)\n",
    "\n",
    "\n"
   ]
  },
  {
   "cell_type": "markdown",
   "id": "1a5a28ee-422f-4c01-9fd9-54f174f0b627",
   "metadata": {},
   "source": [
    "<h2>Remove element from a list</h2>"
   ]
  },
  {
   "cell_type": "code",
   "execution_count": null,
   "id": "8eeceb3b-27dd-45f8-aa32-efcf3bc74f99",
   "metadata": {},
   "outputs": [],
   "source": [
    "\n",
    "a.pop(indice)\n",
    "\n",
    "a.remove(value)\n"
   ]
  }
 ],
 "metadata": {
  "kernelspec": {
   "display_name": "Python 3 (ipykernel)",
   "language": "python",
   "name": "python3"
  },
  "language_info": {
   "codemirror_mode": {
    "name": "ipython",
    "version": 3
   },
   "file_extension": ".py",
   "mimetype": "text/x-python",
   "name": "python",
   "nbconvert_exporter": "python",
   "pygments_lexer": "ipython3",
   "version": "3.9.15"
  }
 },
 "nbformat": 4,
 "nbformat_minor": 5
}
