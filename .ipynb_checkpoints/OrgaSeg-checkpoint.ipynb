{
 "cells": [
  {
   "cell_type": "markdown",
   "id": "f5746122-acbb-4d2a-84f8-470dd5333769",
   "metadata": {},
   "source": [
    "**This Jupyter Notebook ask for a Cellpose model, then a folder containing images, and segment the images from this folder using the model**\n",
    "<p>Then, it computes the size of each mask and in particular the diameter, and export the value for each images, with the suffix *_data*</p>\n",
    "<p>Then, it merges all the data from one image folder into one file with the suffix *data_pos*</p>\n",
    "<p>Once you are done computing all the image folders, it merges all the data from one image folder into one file with the suffix *data_pos*</p>"
   ]
  },
  {
   "cell_type": "code",
   "execution_count": 1,
   "id": "472ff74f-6339-4b18-958a-1e4dda31d505",
   "metadata": {
    "tags": []
   },
   "outputs": [],
   "source": [
    "# Import required libraries\n",
    "import glob\n",
    "import os\n",
    "from pathlib import Path\n",
    "import tkinter\n",
    "import math\n",
    "\n",
    "from dataclasses import dataclass\n",
    "\n",
    "import matplotlib.pyplot as plt\n",
    "import seaborn as sns\n",
    "#import ptitprince as pt # if not installed, run: \"conda install -c conda-forge ptitprince\"\n",
    "\n",
    "import numpy as np\n",
    "from tkinter.filedialog import askdirectory, askopenfilename\n",
    "import pandas as pd\n",
    "from skimage import io, measure\n",
    "from cellpose import models, utils, io as iocp\n",
    "\n",
    "import ipywidgets as widgets"
   ]
  },
  {
   "cell_type": "code",
   "execution_count": 2,
   "id": "92766d2a-da88-47cf-abbb-4fce45b936ac",
   "metadata": {},
   "outputs": [
    {
     "data": {
      "application/vnd.jupyter.widget-view+json": {
       "model_id": "1ab0d2ac12cc44d49ed1ec0a8ec6aeae",
       "version_major": 2,
       "version_minor": 0
      },
      "text/plain": [
       "HBox(children=(Button(description='Find path to the model', layout=Layout(height='auto', width='auto'), style=…"
      ]
     },
     "metadata": {},
     "output_type": "display_data"
    },
    {
     "data": {
      "application/vnd.jupyter.widget-view+json": {
       "model_id": "383b644cdaf84cd3ba669bbbfe47c89b",
       "version_major": 2,
       "version_minor": 0
      },
      "text/plain": [
       "HBox(children=(Label(value='Pixel size (in µm)'), FloatText(value=0.7211538461538461, layout=Layout(height='au…"
      ]
     },
     "metadata": {},
     "output_type": "display_data"
    },
    {
     "data": {
      "application/vnd.jupyter.widget-view+json": {
       "model_id": "c5fa1d7ba6a54b1b8fbda344c573b314",
       "version_major": 2,
       "version_minor": 0
      },
      "text/plain": [
       "HBox(children=(Label(value='Timepoint (in whatever unit you wish)'), FloatText(value=1.0, layout=Layout(height…"
      ]
     },
     "metadata": {},
     "output_type": "display_data"
    },
    {
     "data": {
      "application/vnd.jupyter.widget-view+json": {
       "model_id": "37531cb9e42b49d4a22d2e0c0910be47",
       "version_major": 2,
       "version_minor": 0
      },
      "text/plain": [
       "HBox(children=(Label(value='Approx mean diameter of the EB (in pixels)'), FloatText(value=150.0, layout=Layout…"
      ]
     },
     "metadata": {},
     "output_type": "display_data"
    }
   ],
   "source": [
    "\n",
    "# Create a button widget\n",
    "buttonPathModel = widgets.Button(description=\"Find path to the model\",\n",
    "                        layout={'height': 'auto', 'width': 'auto'})\n",
    "# Create a text output widget\n",
    "outputPathModel = widgets.Text(layout={'height': 'auto', 'width': '75%'})\n",
    "\n",
    "# Define a function to be called when the button is clicked\n",
    "def find_path(b):\n",
    "    # Use the filedialog module to open a file or directory selection dialog\n",
    "    root = tkinter.Tk()\n",
    "    root.withdraw()\n",
    "    root.wm_attributes('-topmost', 1)\n",
    "    model_path= askopenfilename(title=\"Path to the model of segmentation\",parent=root)\n",
    "    outputPathModel.value=model_path\n",
    "\n",
    "# Attach the button-click function to the button widget\n",
    "buttonPathModel.on_click(find_path)\n",
    "\n",
    "# Display the button widget in the output area\n",
    "display(widgets.HBox(children=[buttonPathModel, outputPathModel]))\n",
    "\n",
    "\n",
    "\n",
    "\n",
    "\n",
    "#%%\n",
    "# Create a text input widget\n",
    "pixsize = widgets.FloatText(value=150/208,\n",
    "                               layout={'height': 'auto', 'width': 'auto'})\n",
    "\n",
    "# Define a function to be called when the text input is changed\n",
    "def update_pixsize(change):\n",
    "    # Update the value of the variable to the current value of the text input\n",
    "    pixsize.value = change.new\n",
    "# Attach the text input change function to the text input widget\n",
    "pixsize.observe(update_pixsize, names=\"value\")\n",
    "\n",
    "# Display the text input widget in the output area\n",
    "labelpix = widgets.Label(value=\"Pixel size (in µm)\")\n",
    "containerpix = widgets.HBox(children=[labelpix, pixsize])\n",
    "display(containerpix)\n",
    "\n",
    "\n",
    "\n",
    "\n",
    "\n",
    "\n",
    "\n",
    "\n",
    "\n",
    "# Create a text input widget\n",
    "diam = widgets.FloatText(value=150,\n",
    "                         layout={'height': 'auto', 'width': 'auto'})\n",
    "\n",
    "# Define a function to be called when the text input is changed\n",
    "def update_diam(change):\n",
    "    # Update the value of the variable to the current value of the text input\n",
    "    diam.value = change.new\n",
    "\n",
    "# Attach the text input change function to the text input widget\n",
    "diam.observe(update_diam, names=\"value\")\n",
    "\n",
    "# Display the text input widget in the output area\n",
    "\n",
    "labeldiam = widgets.Label(value=\"Approx mean diameter of the EB (in pixels)\")\n",
    "containerdiam = widgets.HBox(children=[labeldiam, diam])\n",
    "display(containerdiam)\n"
   ]
  },
  {
   "cell_type": "code",
   "execution_count": 26,
   "id": "2555e4bb-cbe9-412d-8008-ebfe6bc332aa",
   "metadata": {},
   "outputs": [
    {
     "data": {
      "application/vnd.jupyter.widget-view+json": {
       "model_id": "4e3e3b5bc0fe4ea39f85ace27b1ed607",
       "version_major": 2,
       "version_minor": 0
      },
      "text/plain": [
       "HBox(children=(Label(value='Timepoint (in whatever unit you wish)'), FloatText(value=1.0, layout=Layout(height…"
      ]
     },
     "metadata": {},
     "output_type": "display_data"
    },
    {
     "data": {
      "application/vnd.jupyter.widget-view+json": {
       "model_id": "2dcbc8c210cf45df82404d457740b0c1",
       "version_major": 2,
       "version_minor": 0
      },
      "text/plain": [
       "HBox(children=(Button(description='Find path to the images', layout=Layout(height='auto', width='auto'), style…"
      ]
     },
     "metadata": {},
     "output_type": "display_data"
    }
   ],
   "source": [
    "# Create a button widget\n",
    "buttonfind_path = widgets.Button(description=\"Find path to the images\", \n",
    "                        layout={'height': 'auto', 'width': 'auto'})\n",
    "# Create a text output widget\n",
    "folder_path = widgets.Text(layout={'height': 'auto', 'width': '75%'})\n",
    "# Define a function to be called when the button is clicked\n",
    "def find_path(b):\n",
    "    # Use the filedialog module to open a file or directory selection dialog\n",
    "    root = tkinter.Tk()\n",
    "    root.withdraw()\n",
    "    root.wm_attributes('-topmost', 1)\n",
    "    folder_path.value = askdirectory(title=\"Path to the folder containing images to be segmented\",parent=root)\n",
    "    \n",
    "    \n",
    "# Attach the button-click function to the button widget\n",
    "buttonfind_path.on_click(find_path)\n",
    "\n",
    "\n",
    "\n",
    "\n",
    "\n",
    "# Create a text input widget\n",
    "timeu = widgets.FloatText(value=1,\n",
    "                                   layout={'height': 'auto', 'width': 'auto'})\n",
    "# Define a function to be called when the text input is changed\n",
    "def update_time(change):\n",
    "    # Update the value of the variable to the current value of the text input\n",
    "    timeu.value=change.new\n",
    "\n",
    "    # Attach the text input change function to the text input widget\n",
    "timeu.observe(update_time, names=\"value\")\n",
    "\n",
    "# Display the text input widget in the output area\n",
    "labeltime = widgets.Label(value=\"Timepoint (in whatever unit you wish)\")\n",
    "containertime = widgets.HBox(children=[labeltime, timeu])\n",
    "display(containertime)\n",
    "\n",
    "\n",
    "\n",
    "\n",
    "\n",
    "# Display the button widget in the output area\n",
    "display(widgets.HBox(children=[buttonfind_path, folder_path]))"
   ]
  },
  {
   "cell_type": "code",
   "execution_count": 18,
   "id": "5456ba04-571b-4398-973a-9879735feaec",
   "metadata": {},
   "outputs": [],
   "source": [
    "# Get the list of images in the folder\n",
    "#image_paths =glob.glob(folder_path + \"/*.jpg\")\n",
    "image_paths=iocp.get_image_files(folder_path.value, ['_masks'], imf=None, look_one_level_down=False)\n",
    "\n",
    "image_paths=list(dict.fromkeys(image_paths)) #remove duplicates using a dictionary fct\n",
    "# cellpose.io.add_model(filename)\n",
    "\n",
    "# Load the cellpose model\n",
    "model = models.CellposeModel(gpu=True, pretrained_model=outputPathModel.value)\n",
    "\n",
    "channels=[0,0]\n",
    "# Segment the image using cellpose\n",
    "for image_path in image_paths:\n",
    "    img= io.imread(image_path)\n",
    "    mask, flow, style = model.eval(img,channels=channels,diameter=diam.value)\n",
    "\n",
    "    iocp.save_masks(img, \n",
    "              mask, \n",
    "              flow, \n",
    "              image_path, \n",
    "              channels=channels,\n",
    "              png=True, # save masks as PNGs and save example image\n",
    "              tif=False, # save masks as TIFFs\n",
    "              save_txt=False, # save txt outlines for ImageJ\n",
    "              save_flows=False, # save flows as TIFFs\n",
    "              save_outlines=False, # save outlines as TIFFs \n",
    "              )\n",
    "\n",
    "    mask2=utils.remove_edge_masks(mask)\n",
    "    outline=utils.masks_to_outlines(mask2)\n",
    "    #perimeters=utils.get_mask_perimeters(mask2)\n",
    "    regions = measure.regionprops(mask2)\n",
    "    \n",
    "    diameters=[]\n",
    "    source_image=[]\n",
    "    time=[]\n",
    "    #perimeters2=np.empty((len(regions),1))\n",
    "    for k in range(len(regions)):\n",
    "        diameters+=[regions[k].equivalent_diameter_area]\n",
    "        source_image+=[image_path]\n",
    "        time+=[timeu.value]\n",
    "        #perimeters2[k]=regions[k].perimeter\n",
    "\n",
    "    data=pd.DataFrame({\n",
    "        'time': time,\n",
    "        'diameter': diameters,\n",
    "        'source_image': source_image\n",
    "        })\n",
    "    \n",
    "    data.to_excel((os.path.splitext(image_path)[0] + '_data.xlsx'))\n",
    "    data.to_pickle((os.path.splitext(image_path)[0] + '_data.pkl'))\n",
    "\n",
    "#% Merge all the data from the position\n",
    "data_paths =glob.glob(folder_path.value + \"/*data.pkl\")\n",
    "\n",
    "data_pos=pd.DataFrame({\n",
    "    'time': [],\n",
    "    'diameter': [],\n",
    "    'source_image': []\n",
    "    })\n",
    "# diameters_pos=pd.DataFrame([])\n",
    "for data_path in data_paths:\n",
    "    data = pd.read_pickle(data_path)\n",
    "    # diameters=np.load(data_path)\n",
    "    \n",
    "    pos_name=os.path.basename(folder_path.value).split('_data')[0]\n",
    "    \n",
    "    data_pos=pd.concat([data_pos,data],ignore_index=True)\n",
    "    # diameters_pos=np.append(diameters_all,diameters)\n",
    "\n",
    "folder_all_path=str(Path(folder_path.value).parent.absolute())\n",
    "data_pos.to_excel(os.path.join(folder_all_path, pos_name+'_data_pos.xlsx'))\n",
    "data_pos.to_pickle(os.path.join(folder_all_path, pos_name+'_data_pos.pkl'))"
   ]
  },
  {
   "cell_type": "markdown",
   "id": "db91018f-578a-4596-9d78-ef8736dd7595",
   "metadata": {},
   "source": [
    "<h2>Merge all the positions</h2>"
   ]
  },
  {
   "cell_type": "code",
   "execution_count": 100,
   "id": "a5dd9e99-7bcb-4bc5-90f8-410466f2778d",
   "metadata": {},
   "outputs": [],
   "source": [
    "#%%\n",
    "# # here print path in notebook and propose to change it with askdirectory\n",
    "folder_all_path=str(Path(folder_path.value).parent.absolute())\n",
    "data_all_paths =glob.glob(os.path.join(folder_all_path, \"*_data_pos.pkl\"))\n",
    "\n",
    "\n",
    "data_all=pd.DataFrame({\n",
    "    'time': [],\n",
    "    'diameter': [],\n",
    "    'source_image': []\n",
    "    })\n",
    "for data_pos_path in data_all_paths:\n",
    "    data_pos = pd.read_pickle(data_pos_path)\n",
    "    # diameters=np.load(data_path)\n",
    "    data_all=pd.concat([data_all,data_pos],ignore_index=True)\n",
    "\n",
    "folder_all_path=str(Path(folder_path.value).parent.absolute())\n",
    "data_all.to_excel(os.path.join(folder_all_path, 'data_all.xlsx'))\n",
    "data_all.to_pickle(os.path.join(folder_all_path, 'data_all.pkl'))"
   ]
  },
  {
   "cell_type": "markdown",
   "id": "1bbc2b85-4f61-48e6-86a4-cd3a7af2815a",
   "metadata": {},
   "source": [
    "<h2>Plot</h2>"
   ]
  },
  {
   "cell_type": "code",
   "execution_count": 114,
   "id": "0088e058-ce5f-45ab-91c7-de1ca40f8637",
   "metadata": {},
   "outputs": [],
   "source": [
    "#%%\n",
    "# Create a button widget\n",
    "buttonPathData = widgets.Button(description=\"Find path to the model\",\n",
    "                        layout={'height': 'auto', 'width': 'auto'})\n",
    "# Create a text output widget\n",
    "outputPathData = widgets.Text(layout={'height': 'auto', 'width': '75%'})\n",
    "\n",
    "if 'folder_all_path' in locals():\n",
    "    outputPathData.value=os.path.join(folder_all_path, 'data_all.pkl')\n",
    "# Define a function to be called when the button is clicked\n",
    "def find_path_data(b):\n",
    "    # Use the filedialog module to open a file or directory selection dialog\n",
    "    root = tkinter.Tk()\n",
    "    root.withdraw()\n",
    "    root.wm_attributes('-topmost', 1)\n",
    "    datapkl_path= askopenfilename(title=\"Path to the model of segmentation\",parent=root)\n",
    "    outputPathData.value=datapkl_path\n",
    "\n",
    "# Attach the button-click function to the button widget\n",
    "buttonPathData.on_click(find_path_data)\n",
    "\n",
    "# Display the button widget in the output area\n",
    "display(widgets.HBox(children=[buttonPathData, outputPathData]))"
   ]
  },
  {
   "cell_type": "code",
   "execution_count": 114,
   "id": "5a1da400-5ffc-4933-8dba-485ca47da93c",
   "metadata": {},
   "outputs": [],
   "source": [
    "g = sns.catplot(data=data_all, x=\"time\", y=\"diameter\", kind=\"violin\")\n",
    "g.ax.set(xlabel='Time (days post seeding)', ylabel='Pseudo-diameter (µm)')\n",
    "\n",
    "nobs = data_all['time'].value_counts().values\n",
    "nobs = [str(y) for y in nobs.tolist()]\n",
    "nobs = [\"n: \" + j for j in nobs]  \n",
    "\n",
    "\n",
    "pos = range(len(nobs))\n",
    "for tick in pos:\n",
    "    g.ax.text(pos[tick], 500, nobs[tick], horizontalalignment='center', size='x-small', color='k', weight='semibold')\n",
    "    \n",
    "    \n",
    "    \n",
    "#set the alpha for the violin plot (no easier way...)\n",
    "tmpcol=g.ax.collections[0].get_facecolor()\n",
    "tmpcol[0,3]=0.5\n",
    "for violin in g.ax.collections[:]:\n",
    "    violin.set_facecolor(tmpcol)\n",
    "    \n",
    "#sns.swarmplot(data=data_all, x=\"time\", y=\"diameter\", color=\"k\", size=3)\n",
    "#plt.setp(g.ax.collections, alpha=.3)\n",
    "\n",
    "plt.savefig(os.path.join(folder_all_path, 'data_all.pdf'))\n",
    "plt.show()"
   ]
  },
  {
   "cell_type": "markdown",
   "id": "289e75cd-3047-4261-93b8-d76476a4d923",
   "metadata": {},
   "source": [
    "**If you need to retrain the Cellpose model, first launch Cellpose** and follow the instructions from https://cellpose.readthedocs.io/en/latest/gui.html#training-your-own-cellpose-model"
   ]
  },
  {
   "cell_type": "code",
   "execution_count": null,
   "id": "038cad04-e1be-4f16-9d98-194e9f93c884",
   "metadata": {},
   "outputs": [],
   "source": [
    "! python -m cellpose"
   ]
  },
  {
   "cell_type": "code",
   "execution_count": null,
   "id": "2eaad58b-a52a-4bfa-9026-22ab270d480a",
   "metadata": {},
   "outputs": [],
   "source": [
    "# data_pos_path=data_all_paths[3]\n",
    "# data_pos = pd.read_pickle(data_pos_path)\n",
    "# data_pos.loc[:,'time']=4\n",
    "# data_pos.to_pickle(os.path.join(folder_all_path, 'J4_data_pos.pkl'))\n",
    "# data_pos.to_excel(os.path.join(folder_all_path, 'J4_data_pos.xlsx'))\n"
   ]
  }
 ],
 "metadata": {
  "kernelspec": {
   "display_name": "Python 3 (ipykernel)",
   "language": "python",
   "name": "python3"
  },
  "language_info": {
   "codemirror_mode": {
    "name": "ipython",
    "version": 3
   },
   "file_extension": ".py",
   "mimetype": "text/x-python",
   "name": "python",
   "nbconvert_exporter": "python",
   "pygments_lexer": "ipython3",
   "version": "3.9.13"
  }
 },
 "nbformat": 4,
 "nbformat_minor": 5
}
