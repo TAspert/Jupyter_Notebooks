{
 "cells": [
  {
   "cell_type": "markdown",
   "id": "f5746122-acbb-4d2a-84f8-470dd5333769",
   "metadata": {},
   "source": [
    "**This Jupyter Notebook ask for a Cellpose model, then a folder containing images, and segment the images from this folder using the model**\n",
    "<p>Then, it computes the size of each mask and in particular the diameter, and export the value for each images, with the suffix *_data*</p>\n",
    "<p>Then, it merges all the data from one image folder into one file with the suffix *data_pos*</p>\n",
    "<p>Once you are done computing all the image folders, it merges all the data from one image folder into one file with the suffix *data_pos*</p>"
   ]
  },
  {
   "cell_type": "code",
   "execution_count": 5,
   "id": "472ff74f-6339-4b18-958a-1e4dda31d505",
   "metadata": {
    "tags": []
   },
   "outputs": [],
   "source": [
    "# Import required libraries\n",
    "import glob\n",
    "import os\n",
    "from pathlib import Path\n",
    "import tkinter\n",
    "\n",
    "import matplotlib.pyplot as plt\n",
    "import seaborn as sns\n",
    "#import ptitprince as pt # if not installed, run: \"conda install -c conda-forge ptitprince\"\n",
    "\n",
    "import numpy as np\n",
    "from tkinter.filedialog import askdirectory, askopenfilename\n",
    "import pandas as pd\n",
    "from skimage import io, measure\n",
    "from cellpose import models, utils, io as iocp\n",
    "\n",
    "import ipywidgets as widgets"
   ]
  },
  {
   "cell_type": "code",
   "execution_count": 9,
   "id": "92766d2a-da88-47cf-abbb-4fce45b936ac",
   "metadata": {},
   "outputs": [
    {
     "data": {
      "application/vnd.jupyter.widget-view+json": {
       "model_id": "06ea847786014a56a891c0b0ab9f0eb2",
       "version_major": 2,
       "version_minor": 0
      },
      "text/plain": [
       "HBox(children=(Button(description='Find path to the model', layout=Layout(height='auto', width='auto'), style=…"
      ]
     },
     "metadata": {},
     "output_type": "display_data"
    }
   ],
   "source": [
    "# Create a button widget\n",
    "button = widgets.Button(description=\"Find path to the model\",\n",
    "                        layout={'height': 'auto', 'width': 'auto'})\n",
    "# Create a text output widget\n",
    "output = widgets.Text(layout={'height': 'auto', 'width': '100%'})\n",
    "\n",
    "# Define a function to be called when the button is clicked\n",
    "def find_path(b):\n",
    "    # Use the filedialog module to open a file or directory selection dialog\n",
    "    root = tkinter.Tk()\n",
    "    root.withdraw()\n",
    "    model_path= askopenfilename(title=\"Path to the model of segmentation\")\n",
    "    output.value=model_path\n",
    "\n",
    "# Attach the button-click function to the button widget\n",
    "button.on_click(find_path)\n",
    "\n",
    "# Display the button widget in the output area\n",
    "display(widgets.HBox(children=[button, output]))"
   ]
  },
  {
   "cell_type": "code",
   "execution_count": 10,
   "id": "04181986-c2f2-437e-a1d1-33d5d32b96ff",
   "metadata": {},
   "outputs": [
    {
     "data": {
      "application/vnd.jupyter.widget-view+json": {
       "model_id": "5251ee4389d5463dbcd78f0a0958e18f",
       "version_major": 2,
       "version_minor": 0
      },
      "text/plain": [
       "HBox(children=(Label(value='Pixel size (in µm)'), FloatText(value=0.7211538461538461, layout=Layout(height='au…"
      ]
     },
     "metadata": {},
     "output_type": "display_data"
    },
    {
     "data": {
      "application/vnd.jupyter.widget-view+json": {
       "model_id": "f6bdaf5fea3d42c989b91b60f1a3613e",
       "version_major": 2,
       "version_minor": 0
      },
      "text/plain": [
       "HBox(children=(Label(value='Timepoint (in whatever unit you wish)'), FloatText(value=3.0, layout=Layout(height…"
      ]
     },
     "metadata": {},
     "output_type": "display_data"
    },
    {
     "data": {
      "application/vnd.jupyter.widget-view+json": {
       "model_id": "e579450146464932b2282bbb3a46353b",
       "version_major": 2,
       "version_minor": 0
      },
      "text/plain": [
       "HBox(children=(Button(description='Find path to the images', layout=Layout(height='auto', width='auto'), style…"
      ]
     },
     "metadata": {},
     "output_type": "display_data"
    }
   ],
   "source": [
    "#%%\n",
    "pixsize=150/208 #in microns\n",
    "\n",
    "# Create a text input widget\n",
    "text_input = widgets.FloatText(value=pixsize,\n",
    "                               layout={'height': 'auto', 'width': 'auto'})\n",
    "\n",
    "# Define a function to be called when the text input is changed\n",
    "def update_variable(change):\n",
    "    # Update the value of the variable to the current value of the text input\n",
    "    pixsize = change[\"new\"]\n",
    "\n",
    "# Attach the text input change function to the text input widget\n",
    "text_input.observe(update_variable, names=\"value\")\n",
    "\n",
    "# Display the text input widget in the output area\n",
    "\n",
    "labelpix = widgets.Label(value=\"Pixel size (in µm)\")\n",
    "containerpix = widgets.HBox(children=[labelpix, text_input])\n",
    "display(containerpix)\n",
    "\n",
    "\n",
    "\n",
    "\n",
    "timeu=3;\n",
    "\n",
    "# Create a text input widget\n",
    "text_inputtime = widgets.FloatText(value=timeu,\n",
    "                                   layout={'height': 'auto', 'width': 'auto'})\n",
    "\n",
    "# Define a function to be called when the text input is changed\n",
    "def update_variable(change):\n",
    "    # Update the value of the variable to the current value of the text input\n",
    "    timeu = change[\"new\"]\n",
    "\n",
    "# Attach the text input change function to the text input widget\n",
    "text_inputtime.observe(update_variable, names=\"value\")\n",
    "\n",
    "# Display the text input widget in the output area\n",
    "labeltime = widgets.Label(value=\"Timepoint (in whatever unit you wish)\")\n",
    "containertime = widgets.HBox(children=[labeltime, text_inputtime])\n",
    "display(containertime)\n",
    "\n",
    "\n",
    "\n",
    "\n",
    "\n",
    "\n",
    "# Create a button widget\n",
    "button = widgets.Button(description=\"Find path to the images\", \n",
    "                        layout={'height': 'auto', 'width': 'auto'})\n",
    "# Create a text output widget\n",
    "output = widgets.Text(layout={'height': 'auto', 'width': '100%'})\n",
    "\n",
    "# Define a function to be called when the button is clicked\n",
    "def find_path(b):\n",
    "    # Use the filedialog module to open a file or directory selection dialog\n",
    "    root = tkinter.Tk()\n",
    "    root.withdraw()\n",
    "    folder_path = askdirectory(title=\"Path to the folder containing images to be segmented\")\n",
    "    output.value=folder_path\n",
    "\n",
    "# Attach the button-click function to the button widget\n",
    "button.on_click(find_path)\n",
    "\n",
    "# Display the button widget in the output area\n",
    "display(widgets.HBox(children=[button, output]))"
   ]
  },
  {
   "cell_type": "code",
   "execution_count": null,
   "id": "44dec234-eaa9-4cbc-a92f-ba95c43e3894",
   "metadata": {},
   "outputs": [],
   "source": [
    "#%%\n",
    "# Get the list of images in the folder\n",
    "#image_paths =glob.glob(folder_path + \"/*.jpg\")\n",
    "image_paths=iocp.get_image_files(folder_path, ['_masks'], imf=None, look_one_level_down=False)\n",
    "\n",
    "image_paths=list(dict.fromkeys(image_paths)) #remove duplicates using a dictionary fct\n",
    "# cellpose.io.add_model(filename)\n",
    "\n",
    "# Load the cellpose model\n",
    "model = models.CellposeModel(gpu=True, pretrained_model=model_path)\n",
    "\n",
    "channels=[0,0]\n",
    "cc=1;\n",
    "# Segment the image using cellpose\n",
    "for image_path in image_paths:\n",
    "    img= io.imread(image_path)\n",
    "    mask, flow, style = model.eval(img,channels=channels,diameter=150)\n",
    "\n",
    "    iocp.save_masks(img, \n",
    "              mask, \n",
    "              flow, \n",
    "              image_path, \n",
    "              channels=channels,\n",
    "              png=True, # save masks as PNGs and save example image\n",
    "              tif=False, # save masks as TIFFs\n",
    "              save_txt=False, # save txt outlines for ImageJ\n",
    "              save_flows=False, # save flows as TIFFs\n",
    "              save_outlines=False, # save outlines as TIFFs \n",
    "              )\n",
    "\n",
    "    mask2=utils.remove_edge_masks(mask)\n",
    "    outline=utils.masks_to_outlines(mask2)\n",
    "    #perimeters=utils.get_mask_perimeters(mask2)\n",
    "    regions = measure.regionprops(mask2)\n",
    "    \n",
    "    diameters=[]\n",
    "    source_image=[]\n",
    "    time=[]\n",
    "    #perimeters2=np.empty((len(regions),1))\n",
    "    for k in range(len(regions)):\n",
    "        diameters+=[regions[k].equivalent_diameter_area]\n",
    "        source_image+=[image_path]\n",
    "        time+=[timeu]\n",
    "        #perimeters2[k]=regions[k].perimeter\n",
    "\n",
    "    data=pd.DataFrame({\n",
    "        'time': timeu,\n",
    "        'diameter': diameters,\n",
    "        'source_image': source_image\n",
    "        })\n",
    "    \n",
    "    #todo: one timepoint per row (per organoid)\n",
    "    data.to_excel((os.path.splitext(image_path)[0] + '_data.xlsx'))\n",
    "    data.to_pickle((os.path.splitext(image_path)[0] + '_data.pkl'))\n",
    "# np.save((os.path.splitext(image_path)[0] + '_data'),diameters)\n",
    "# np.savetxt((os.path.splitext(image_path)[0] + '_data.csv'),diameters)\n",
    "\n",
    "\n",
    "\n",
    "#% Merge all the data from the position\n",
    "data_paths =glob.glob(folder_path + \"/*data.pkl\")\n",
    "\n",
    "data_pos=pd.DataFrame({\n",
    "    'time': [],\n",
    "    'diameter': [],\n",
    "    'source_image': []\n",
    "    })\n",
    "# diameters_pos=pd.DataFrame([])\n",
    "for data_path in data_paths:\n",
    "    data = pd.read_pickle(data_path)\n",
    "    # diameters=np.load(data_path)\n",
    "    \n",
    "    pos_name=os.path.basename(folder_path).split('_data')[0]\n",
    "    \n",
    "    data_pos=pd.concat([data_pos,data],ignore_index=True)\n",
    "    # diameters_pos=np.append(diameters_all,diameters)\n",
    "\n",
    "folder_all_path=str(Path(folder_path).parent.absolute())\n",
    "data_pos.to_excel(os.path.join(folder_all_path, pos_name+'_data_pos.xlsx'))\n",
    "data_pos.to_pickle(os.path.join(folder_all_path, pos_name+'_data_pos.pkl'))\n",
    "    \n",
    "# np.save((os.path.splitext(folder_path)[0] + \"data_pos.npy\"),diameters_pos)\n",
    "# np.savetxt((os.path.splitext(folder_path)[0] + \"data_pos.csv\"),diameters_pos)"
   ]
  },
  {
   "cell_type": "code",
   "execution_count": null,
   "id": "a5dd9e99-7bcb-4bc5-90f8-410466f2778d",
   "metadata": {},
   "outputs": [],
   "source": [
    "#%%\n",
    "# here print path in notebook and propose to change it with askdirectory\n",
    "folder_all_path=str(Path(folder_path).parent.absolute())\n",
    "data_all_paths =glob.glob(folder_all_path + \"/*_data_pos.pkl\")\n",
    "\n",
    "\n",
    "data_all=pd.DataFrame({\n",
    "    'time': [],\n",
    "    'diameter': [],\n",
    "    'source_image': []\n",
    "    })\n",
    "for data_pos_path in data_all_paths:\n",
    "    data_pos = pd.read_pickle(data_pos_path)\n",
    "    # diameters=np.load(data_path)\n",
    "    data_all=pd.concat([data_all,data_pos],ignore_index=True)\n",
    "\n",
    "folder_all_path=str(Path(folder_path).parent.absolute())\n",
    "data_all.to_excel(os.path.join(folder_all_path, 'data_all.xlsx'))\n",
    "data_all.to_pickle(os.path.join(folder_all_path, 'data_all.pkl'))"
   ]
  },
  {
   "cell_type": "code",
   "execution_count": null,
   "id": "046e05c4-ddbb-4fbc-8cea-6d985d62b99c",
   "metadata": {},
   "outputs": [],
   "source": [
    "#%%\n",
    "#here load stuff\n",
    "g = sns.catplot(data=data_all, x=\"time\", y=\"diameter\", kind=\"violin\")\n",
    "\n",
    "#set the alpha for the violin plot (no easier way...)\n",
    "tmpcol=g.ax.collections[0].get_facecolor()\n",
    "tmpcol[0,3]=0.5\n",
    "for violin in g.ax.collections[:]:\n",
    "    violin.set_facecolor(tmpcol)\n",
    "    \n",
    "#sns.swarmplot(data=data_all, x=\"time\", y=\"diameter\", color=\"k\", size=3)\n",
    "#plt.setp(g.ax.collections, alpha=.3)\n",
    "\n",
    "plt.savefig(os.path.join(folder_all_path, 'data_all.pdf'))\n",
    "plt.show()"
   ]
  },
  {
   "cell_type": "markdown",
   "id": "289e75cd-3047-4261-93b8-d76476a4d923",
   "metadata": {},
   "source": [
    "**If you need to retrain the Cellpose model, first launch Cellpose** and follow the instructions from https://cellpose.readthedocs.io/en/latest/gui.html#training-your-own-cellpose-model"
   ]
  },
  {
   "cell_type": "code",
   "execution_count": 13,
   "id": "038cad04-e1be-4f16-9d98-194e9f93c884",
   "metadata": {},
   "outputs": [
    {
     "name": "stdout",
     "output_type": "stream",
     "text": [
      "2022-12-09 02:10:51,168 [INFO] WRITING LOG OUTPUT TO C:\\Users\\Silence\\.cellpose\\run.log\n",
      "2022-12-09 02:10:52,097 [INFO] ** TORCH CUDA version installed and working. **\n"
     ]
    }
   ],
   "source": [
    "! python -m cellpose"
   ]
  }
 ],
 "metadata": {
  "kernelspec": {
   "display_name": "Python 3 (ipykernel)",
   "language": "python",
   "name": "python3"
  },
  "language_info": {
   "codemirror_mode": {
    "name": "ipython",
    "version": 3
   },
   "file_extension": ".py",
   "mimetype": "text/x-python",
   "name": "python",
   "nbconvert_exporter": "python",
   "pygments_lexer": "ipython3",
   "version": "3.9.13"
  }
 },
 "nbformat": 4,
 "nbformat_minor": 5
}
