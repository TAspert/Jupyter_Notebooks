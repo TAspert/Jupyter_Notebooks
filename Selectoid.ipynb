{
 "cells": [
  {
   "cell_type": "markdown",
   "id": "f5746122-acbb-4d2a-84f8-470dd5333769",
   "metadata": {},
   "source": [
    "**This Jupyter Notebook ask for a Cellpose model, then a folder containing images, and segment the images from this folder using the model**\n",
    "<p>Then, it computes the size of each mask and in particular the diameter, and export the value for each images, with the suffix *_data*</p>\n",
    "<p>Then, it merges all the data from one image folder into one file with the suffix *data_pos*</p>\n",
    "<p>Once you are done computing all the image folders, it merges all the data from one image folder into one file with the suffix *data_pos*</p>"
   ]
  },
  {
   "cell_type": "code",
   "execution_count": 27,
   "id": "472ff74f-6339-4b18-958a-1e4dda31d505",
   "metadata": {
    "tags": []
   },
   "outputs": [],
   "source": [
    "# Import required libraries\n",
    "import glob\n",
    "import os\n",
    "from pathlib import Path\n",
    "import tkinter\n",
    "import math\n",
    "\n",
    "import matplotlib.pyplot as plt\n",
    "import seaborn as sns\n",
    "#import ptitprince as pt # if not installed, run: \"conda install -c conda-forge ptitprince\"\n",
    "\n",
    "import numpy as np\n",
    "from tkinter.filedialog import askdirectory, askopenfilename\n",
    "import pandas as pd\n",
    "from skimage import io, measure\n",
    "from cellpose import models, utils, io as iocp\n",
    "\n",
    "import ipywidgets as widgets"
   ]
  },
  {
   "cell_type": "code",
   "execution_count": 8,
   "id": "92766d2a-da88-47cf-abbb-4fce45b936ac",
   "metadata": {},
   "outputs": [
    {
     "data": {
      "application/vnd.jupyter.widget-view+json": {
       "model_id": "fa0608f6ee8840d48b6bd6b2431693c8",
       "version_major": 2,
       "version_minor": 0
      },
      "text/plain": [
       "HBox(children=(Button(description='Find path to the model', layout=Layout(height='auto', width='auto'), style=…"
      ]
     },
     "metadata": {},
     "output_type": "display_data"
    }
   ],
   "source": [
    "# Create a button widget\n",
    "button = widgets.Button(description=\"Find path to the model\",\n",
    "                        layout={'height': 'auto', 'width': 'auto'})\n",
    "# Create a text output widget\n",
    "output = widgets.Text(layout={'height': 'auto', 'width': '75%'})\n",
    "\n",
    "# Define a function to be called when the button is clicked\n",
    "def find_path(b):\n",
    "    # Use the filedialog module to open a file or directory selection dialog\n",
    "    root = tkinter.Tk()\n",
    "    root.withdraw()\n",
    "    model_path= askopenfilename(title=\"Path to the model of segmentation\")\n",
    "    output.value=model_path\n",
    "\n",
    "# Attach the button-click function to the button widget\n",
    "button.on_click(find_path)\n",
    "\n",
    "# Display the button widget in the output area\n",
    "display(widgets.HBox(children=[button, output]))"
   ]
  },
  {
   "cell_type": "code",
   "execution_count": 25,
   "id": "04181986-c2f2-437e-a1d1-33d5d32b96ff",
   "metadata": {},
   "outputs": [
    {
     "data": {
      "application/vnd.jupyter.widget-view+json": {
       "model_id": "9229d24fb5c64397984ae1f09d30329e",
       "version_major": 2,
       "version_minor": 0
      },
      "text/plain": [
       "HBox(children=(Label(value='Pixel size (in µm)'), FloatText(value=0.7211538461538461, layout=Layout(height='au…"
      ]
     },
     "metadata": {},
     "output_type": "display_data"
    },
    {
     "data": {
      "application/vnd.jupyter.widget-view+json": {
       "model_id": "c767c6307d264c0290ca20ae50c38ece",
       "version_major": 2,
       "version_minor": 0
      },
      "text/plain": [
       "HBox(children=(Label(value='Timepoint (in whatever unit you wish)'), FloatText(value=1.0, layout=Layout(height…"
      ]
     },
     "metadata": {},
     "output_type": "display_data"
    },
    {
     "data": {
      "application/vnd.jupyter.widget-view+json": {
       "model_id": "bc2d81d69268410298b37b7b148629b0",
       "version_major": 2,
       "version_minor": 0
      },
      "text/plain": [
       "HBox(children=(Label(value='Approx mean diameter of the EB (in pixels)'), FloatText(value=150.0, layout=Layout…"
      ]
     },
     "metadata": {},
     "output_type": "display_data"
    },
    {
     "data": {
      "application/vnd.jupyter.widget-view+json": {
       "model_id": "06dc1f4785ba402aae31653e41fc2418",
       "version_major": 2,
       "version_minor": 0
      },
      "text/plain": [
       "Dropdown(description='Type of plate:', layout=Layout(height='auto', width='max-content'), options=('96-wells p…"
      ]
     },
     "metadata": {},
     "output_type": "display_data"
    },
    {
     "name": "stdout",
     "output_type": "stream",
     "text": [
      "96-wells plate - Landscape\n"
     ]
    },
    {
     "data": {
      "application/vnd.jupyter.widget-view+json": {
       "model_id": "ac51dbfee13d4d529a423bb47e4e3359",
       "version_major": 2,
       "version_minor": 0
      },
      "text/plain": [
       "HBox(children=(Button(description='Find path to the images', layout=Layout(height='auto', width='auto'), style…"
      ]
     },
     "metadata": {},
     "output_type": "display_data"
    }
   ],
   "source": [
    "#%%\n",
    "pixsize=150/208 #in microns\n",
    "# Create a text input widget\n",
    "text_input = widgets.FloatText(value=pixsize,\n",
    "                               layout={'height': 'auto', 'width': 'auto'})\n",
    "\n",
    "# Define a function to be called when the text input is changed\n",
    "def update_pixsize(change):\n",
    "    # Update the value of the variable to the current value of the text input\n",
    "    pixsize = change[\"new\"]\n",
    "\n",
    "# Attach the text input change function to the text input widget\n",
    "text_input.observe(update_pixsize, names=\"value\")\n",
    "\n",
    "# Display the text input widget in the output area\n",
    "\n",
    "labelpix = widgets.Label(value=\"Pixel size (in µm)\")\n",
    "containerpix = widgets.HBox(children=[labelpix, text_input])\n",
    "display(containerpix)\n",
    "\n",
    "\n",
    "\n",
    "\n",
    "timeu=1;\n",
    "# Create a text input widget\n",
    "text_inputtime = widgets.FloatText(value=timeu,\n",
    "                                   layout={'height': 'auto', 'width': 'auto'})\n",
    "\n",
    "# Define a function to be called when the text input is changed\n",
    "def update_time(change):\n",
    "    # Update the value of the variable to the current value of the text input\n",
    "    timeu = change[\"new\"]\n",
    "\n",
    "# Attach the text input change function to the text input widget\n",
    "text_inputtime.observe(update_time, names=\"value\")\n",
    "\n",
    "# Display the text input widget in the output area\n",
    "labeltime = widgets.Label(value=\"Timepoint (in whatever unit you wish)\")\n",
    "containertime = widgets.HBox(children=[labeltime, text_inputtime])\n",
    "display(containertime)\n",
    "\n",
    "\n",
    "\n",
    "\n",
    "\n",
    "\n",
    "diameterval=150 #in pixels\n",
    "# Create a text input widget\n",
    "text_input_diam = widgets.FloatText(value=diameterval,\n",
    "                               layout={'height': 'auto', 'width': 'auto'})\n",
    "\n",
    "# Define a function to be called when the text input is changed\n",
    "def update_diam(change):\n",
    "    # Update the value of the variable to the current value of the text input\n",
    "    diameterval = change[\"new\"]\n",
    "\n",
    "# Attach the text input change function to the text input widget\n",
    "text_input_diam.observe(update_diam, names=\"value\")\n",
    "\n",
    "# Display the text input widget in the output area\n",
    "\n",
    "labeldiam = widgets.Label(value=\"Approx mean diameter of the EB (in pixels)\")\n",
    "containerdiam = widgets.HBox(children=[labeldiam, text_input_diam])\n",
    "display(containerdiam)\n",
    "\n",
    "\n",
    "\n",
    "\n",
    "# Create a dropdown menu with a list of options\n",
    "TypePlate = widgets.Dropdown(\n",
    "    options=['96-wells plate - Landscape'],\n",
    "    description='Type of plate:',\n",
    "    layout={'height': 'auto', 'width': '50%','width': 'max-content'}\n",
    ")\n",
    "\n",
    "# Display the dropdown menu\n",
    "display(TypePlate)\n",
    "\n",
    "\n",
    "\n",
    "\n",
    "# Create a button widget\n",
    "button = widgets.Button(description=\"Find path to the images\", \n",
    "                        layout={'height': 'auto', 'width': 'auto'})\n",
    "# Create a text output widget\n",
    "output = widgets.Text(layout={'height': 'auto', 'width': '75%'})\n",
    "\n",
    "# Define a function to be called when the button is clicked\n",
    "def find_path(b):\n",
    "    # Use the filedialog module to open a file or directory selection dialog\n",
    "    root = tkinter.Tk()\n",
    "    root.withdraw()\n",
    "    folder_path = askdirectory(title=\"Path to the folder containing images to be segmented\")\n",
    "    output.value=folder_path\n",
    "\n",
    "# Attach the button-click function to the button widget\n",
    "button.on_click(find_path)\n",
    "\n",
    "# Display the button widget in the output area\n",
    "display(widgets.HBox(children=[button, output]))"
   ]
  },
  {
   "cell_type": "code",
   "execution_count": null,
   "id": "44dec234-eaa9-4cbc-a92f-ba95c43e3894",
   "metadata": {},
   "outputs": [],
   "source": [
    "#%%\n",
    "# Get the list of images in the folder\n",
    "#image_paths =glob.glob(folder_path + \"/*.jpg\")\n",
    "image_paths=iocp.get_image_files(folder_path, ['_masks'], imf=None, look_one_level_down=False)\n",
    "\n",
    "image_paths=list(dict.fromkeys(image_paths)) #remove duplicates using a dictionary fct\n",
    "# cellpose.io.add_model(filename)\n",
    "\n",
    "# Load the cellpose model\n",
    "model = models.CellposeModel(gpu=True, pretrained_model=model_path)\n",
    "\n",
    "channels=[0,0]\n",
    "cc=1;\n",
    "numimg=len(image_paths)\n",
    "\n",
    "if TypePlate=='96-wells plate - Landscape':\n",
    "    ncol=math.ceil(numimg/8)\n",
    "    nrow=min(numimg,8)\n",
    "    \n",
    "# Segment the image using cellpose\n",
    "for image_path in image_paths:\n",
    "    img= io.imread(image_path)\n",
    "    mask, flow, style = model.eval(img,channels=channels,diameter=diameterval)\n",
    "\n",
    "    iocp.save_masks(img, \n",
    "              mask, \n",
    "              flow, \n",
    "              image_path, \n",
    "              channels=channels,\n",
    "              png=True, # save masks as PNGs and save example image\n",
    "              tif=False, # save masks as TIFFs\n",
    "              save_txt=False, # save txt outlines for ImageJ\n",
    "              save_flows=False, # save flows as TIFFs\n",
    "              save_outlines=False, # save outlines as TIFFs \n",
    "              )\n",
    "\n",
    "    mask2=utils.remove_edge_masks(mask)\n",
    "    outline=utils.masks_to_outlines(mask2)\n",
    "    #here keep the biggest region\n",
    "\n",
    "    regions = measure.regionprops(mask2)\n",
    "    \n",
    "    diameters=[]\n",
    "    source_image=[]\n",
    "    time=[]\n",
    "    Well_number=[]\n",
    "\n",
    "    diameters+=[regions[k].equivalent_diameter_area]\n",
    "    Well_number+=cc\n",
    "    source_image+=[image_path]\n",
    "    time+=[timeu]\n",
    "        #perimeters2[k]=regions[k].perimeter\n",
    "\n",
    "\n",
    "    \n",
    "    np.save((os.path.splitext(image_path)[0] + '_data'),diameters)\n",
    "    np.savetxt((os.path.splitext(image_path)[0] + '_data.csv'),diameters)\n",
    "\n",
    "\n",
    "\n",
    "#% Merge all the data from the position\n",
    "data_paths =glob.glob(folder_path + \"/*data\")\n",
    "\n",
    "data_pos=[]\n",
    "# diameters_pos=pd.DataFrame([])\n",
    "for data_path in data_paths:\n",
    "    diameters+=[regions[k].equivalent_diameter_area]\n",
    "        Well_number+=cc\n",
    "        source_image+=[image_path]\n",
    "        time+=[timeu]\n",
    "    \n",
    "# np.save((os.path.splitext(folder_path)[0] + \"data_pos.npy\"),diameters_pos)\n",
    "# np.savetxt((os.path.splitext(folder_path)[0] + \"data_pos.csv\"),diameters_pos)"
   ]
  },
  {
   "cell_type": "code",
   "execution_count": null,
   "id": "a5dd9e99-7bcb-4bc5-90f8-410466f2778d",
   "metadata": {},
   "outputs": [],
   "source": []
  },
  {
   "cell_type": "code",
   "execution_count": null,
   "id": "046e05c4-ddbb-4fbc-8cea-6d985d62b99c",
   "metadata": {},
   "outputs": [],
   "source": [
    "#%%\n",
    "#here load stuff\n",
    "g = sns.catplot(data=data_all, x=\"time\", y=\"diameter\", kind=\"violin\")\n",
    "\n",
    "#set the alpha for the violin plot (no easier way...)\n",
    "tmpcol=g.ax.collections[0].get_facecolor()\n",
    "tmpcol[0,3]=0.5\n",
    "for violin in g.ax.collections[:]:\n",
    "    violin.set_facecolor(tmpcol)\n",
    "    \n",
    "#sns.swarmplot(data=data_all, x=\"time\", y=\"diameter\", color=\"k\", size=3)\n",
    "#plt.setp(g.ax.collections, alpha=.3)\n",
    "\n",
    "plt.savefig(os.path.join(folder_all_path, 'data_all.pdf'))\n",
    "plt.show()"
   ]
  },
  {
   "cell_type": "markdown",
   "id": "289e75cd-3047-4261-93b8-d76476a4d923",
   "metadata": {},
   "source": [
    "**If you need to retrain the Cellpose model, first launch Cellpose** and follow the instructions from https://cellpose.readthedocs.io/en/latest/gui.html#training-your-own-cellpose-model"
   ]
  },
  {
   "cell_type": "code",
   "execution_count": 13,
   "id": "038cad04-e1be-4f16-9d98-194e9f93c884",
   "metadata": {},
   "outputs": [
    {
     "name": "stdout",
     "output_type": "stream",
     "text": [
      "2022-12-09 02:10:51,168 [INFO] WRITING LOG OUTPUT TO C:\\Users\\Silence\\.cellpose\\run.log\n",
      "2022-12-09 02:10:52,097 [INFO] ** TORCH CUDA version installed and working. **\n"
     ]
    }
   ],
   "source": [
    "! python -m cellpose"
   ]
  }
 ],
 "metadata": {
  "kernelspec": {
   "display_name": "Python 3 (ipykernel)",
   "language": "python",
   "name": "python3"
  },
  "language_info": {
   "codemirror_mode": {
    "name": "ipython",
    "version": 3
   },
   "file_extension": ".py",
   "mimetype": "text/x-python",
   "name": "python",
   "nbconvert_exporter": "python",
   "pygments_lexer": "ipython3",
   "version": "3.9.13"
  }
 },
 "nbformat": 4,
 "nbformat_minor": 5
}
